{
 "cells": [
  {
   "cell_type": "code",
   "execution_count": 1,
   "id": "c4b1f386-83d7-4308-90f4-20b6dea64f3e",
   "metadata": {},
   "outputs": [],
   "source": [
    "# Author: Brent Artuch\n",
    "# Date: 2024-10-04\n",
    "import numpy as np\n",
    "import sympy as sp\n",
    "import pandas as pd\n",
    "from IPython.display import *\n",
    "import matplotlib.pyplot as plt\n",
    "\n",
    "sp.init_printing()"
   ]
  },
  {
   "cell_type": "markdown",
   "id": "5b41b8ef-4435-4b7a-8619-571c6d259bb1",
   "metadata": {},
   "source": [
    "## 1.3 - Probability\n",
    "#### Discrete Variables\n",
    "Imagine a room of 14 people with the following ages:\n",
    "* 1 person age 14\n",
    "* 1 person age 15\n",
    "* 3 people age 16\n",
    "* 2 people age 22\n",
    "* 2 people age 24\n",
    "* 5 people age 25\n",
    "<br><br>\n",
    "We can reference the number of people by age with the function $N(j)$, where $j$ is the age value."
   ]
  },
  {
   "cell_type": "code",
   "execution_count": 2,
   "id": "02dec472-e6b8-4ae2-a767-c3bf89d4b9a3",
   "metadata": {},
   "outputs": [
    {
     "data": {
      "image/png": "[encoded data removed]",
      "text/latex": [
       "$\\displaystyle 2$"
      ],
      "text/plain": [
       "2"
      ]
     },
     "execution_count": 2,
     "metadata": {},
     "output_type": "execute_result"
    }
   ],
   "source": [
    "R = [(1,14),(1,15),(3,16),(2,22),(2,24),(5,25)]\n",
    "def number_of_people(age, R):\n",
    "    for age_count in R:\n",
    "        if age_count[1] == age:\n",
    "            return age_count[0]\n",
    "    print(\"No one in the room is the given age.\")\n",
    "\n",
    "number_of_people(22, R)"
   ]
  },
  {
   "cell_type": "markdown",
   "id": "2e5126cd-14f2-48df-80e3-88ee69f7ed10",
   "metadata": {},
   "source": [
    "The total number of people $N$ can be expressed by the function: $$N=\\sum_{j=0}^{\\infty}N(j)$$"
   ]
  },
  {
   "cell_type": "code",
   "execution_count": 3,
   "id": "5100b06d-a858-435b-909c-92f48759662b",
   "metadata": {},
   "outputs": [
    {
     "data": {
      "image/png": "[encoded data removed]",
      "text/latex": [
       "$\\displaystyle 14$"
      ],
      "text/plain": [
       "14"
      ]
     },
     "execution_count": 3,
     "metadata": {},
     "output_type": "execute_result"
    }
   ],
   "source": [
    "def total_number_of_people(R):\n",
    "    total = 0\n",
    "    for age_count in R:\n",
    "        total += number_of_people(age_count[1], R)\n",
    "    return total\n",
    "\n",
    "total_number_of_people(R)"
   ]
  },
  {
   "cell_type": "code",
   "execution_count": 4,
   "id": "69b52c1a-5b7f-4584-82ba-3025f0823011",
   "metadata": {},
   "outputs": [
    {
     "data": {
      "text/plain": [
       "<Axes: title={'center': 'Number of People, $N(j)$, with $j$ age'}, xlabel='$j$', ylabel='$N(j)$'>"
      ]
     },
     "execution_count": 4,
     "metadata": {},
     "output_type": "execute_result"
    },
    {
     "data": {
      "image/png": "[encoded data removed]",
      "text/plain": [
       "<Figure size 640x480 with 1 Axes>"
      ]
     },
     "metadata": {},
     "output_type": "display_data"
    }
   ],
   "source": [
    "# Histogram plot showing the number of prople for each N(j)\n",
    "data = [14,15,16,16,16,22,22,24,24,25,25,25,25,25]\n",
    "room = pd.Series(data)\n",
    "room.plot.hist(\n",
    "    bins=20, title=r\"Number of People, $N(j)$, with $j$ age\", xlabel=r\"$j$\",\n",
    "    ylabel=r\"$N(j)$\", xticks=list(range(10,27)), edgecolor=\"black\"\n",
    ")"
   ]
  },
  {
   "cell_type": "markdown",
   "id": "5aee2062-8e07-47b8-b8b2-8f651d912c85",
   "metadata": {},
   "source": [
    "The probability of someone being a particular age(s) can be expressed as: $$P(j)=\\frac{N(j)}{N}=1$$"
   ]
  },
  {
   "cell_type": "code",
   "execution_count": 5,
   "id": "0551c2df-101a-4dd5-9b44-d4deddfca08e",
   "metadata": {},
   "outputs": [
    {
     "data": {
      "image/png": "[encoded data removed]",
      "text/latex": [
       "$\\displaystyle \\frac{1}{7}$"
      ],
      "text/plain": [
       "1/7"
      ]
     },
     "execution_count": 5,
     "metadata": {},
     "output_type": "execute_result"
    }
   ],
   "source": [
    "def probability_of_age(ages, R):\n",
    "    num_people = 0\n",
    "    for age in ages:\n",
    "        num_people += number_of_people(age, R)\n",
    "    probability = num_people/total_number_of_people(R)\n",
    "    return probability\n",
    "\n",
    "sp.nsimplify(probability_of_age([14,15], R), rational=True)"
   ]
  },
  {
   "cell_type": "markdown",
   "id": "9737c389-3cc3-43eb-8b4d-549a78497edf",
   "metadata": {},
   "source": [
    "Average age is denoted: $$\\langle j\\rangle=\\frac{\\sum jN(j)}{N}=\\sum_{j=0}^{\\infty}jP(j)$$"
   ]
  },
  {
   "cell_type": "code",
   "execution_count": 6,
   "id": "f960df55-6ae5-4a3d-8971-c9835a12359a",
   "metadata": {},
   "outputs": [
    {
     "data": {
      "image/png": "[encoded data removed]",
      "text/latex": [
       "$\\displaystyle 21.0$"
      ],
      "text/plain": [
       "21.0"
      ]
     },
     "execution_count": 6,
     "metadata": {},
     "output_type": "execute_result"
    }
   ],
   "source": [
    "def average_age(R):\n",
    "    average = 0\n",
    "    for age_count in R:\n",
    "        average += age_count[1] * probability_of_age([age_count[1]], R)\n",
    "    return average\n",
    "\n",
    "average_age(R)"
   ]
  },
  {
   "cell_type": "markdown",
   "id": "75ec0e5b-fd95-4e2a-be26-454d061ff6b9",
   "metadata": {},
   "source": [
    "The average of a function of the age $j$ is given by: $$\\langle f(j)\\rangle=\\sum_{j=0}^{\\infty}f(j)P(j)$$"
   ]
  },
  {
   "cell_type": "code",
   "execution_count": 7,
   "id": "0837d4b1-e510-42c6-b4c5-ced45b649ad1",
   "metadata": {},
   "outputs": [
    {
     "data": {
      "image/png": "[encoded data removed]",
      "text/latex": [
       "$\\displaystyle 459.571428571429$"
      ],
      "text/plain": [
       "459.571428571429"
      ]
     },
     "execution_count": 7,
     "metadata": {},
     "output_type": "execute_result"
    }
   ],
   "source": [
    "# Example \n",
    "j = sp.symbols(\"j\")\n",
    "def average_of_function(function, R):   \n",
    "    average = 0\n",
    "    for age_count in R:\n",
    "        average += function.subs(j,age_count[1]) * probability_of_age([age_count[1]], R)\n",
    "    return average\n",
    "\n",
    "function = j**2\n",
    "average_of_function(function, R)"
   ]
  },
  {
   "cell_type": "markdown",
   "id": "4cff466d-8750-4e46-90ce-67f8c02f9a60",
   "metadata": {},
   "source": [
    "The variance of the distribtuion is: $$\\sigma^{2}\\equiv\\langle j^2\\rangle-\\langle j\\rangle^2$$"
   ]
  },
  {
   "cell_type": "code",
   "execution_count": 8,
   "id": "9d324ff6-557b-4882-a34f-16709ce5a4e3",
   "metadata": {},
   "outputs": [
    {
     "data": {
      "image/png": "[encoded data removed]",
      "text/latex": [
       "$\\displaystyle 438.571428571429$"
      ],
      "text/plain": [
       "438.571428571429"
      ]
     },
     "execution_count": 8,
     "metadata": {},
     "output_type": "execute_result"
    }
   ],
   "source": [
    "def variance_of_ages(R):\n",
    "    function = j**2\n",
    "    return average_of_function(function,R) - average_age(R)\n",
    "\n",
    "variance_of_ages(R)"
   ]
  },
  {
   "cell_type": "markdown",
   "id": "20b080ff-45c9-45be-9c92-530263832867",
   "metadata": {},
   "source": [
    "The standard deviation is: $$\\sigma=\\sqrt{\\langle j^2\\rangle-\\langle j\\rangle^2}$$"
   ]
  },
  {
   "cell_type": "code",
   "execution_count": 9,
   "id": "2751681e-8a75-4670-ab83-64f85739b64e",
   "metadata": {},
   "outputs": [
    {
     "data": {
      "image/png": "[encoded data removed]",
      "text/latex": [
       "$\\displaystyle 20.9420970433104$"
      ],
      "text/plain": [
       "20.9420970433104"
      ]
     },
     "execution_count": 9,
     "metadata": {},
     "output_type": "execute_result"
    }
   ],
   "source": [
    "def standard_deviation(R):\n",
    "    return sp.sqrt(variance_of_ages(R))\n",
    "\n",
    "standard_deviation(R)"
   ]
  },
  {
   "cell_type": "markdown",
   "id": "7eebc808-6900-4f96-9c89-a6aa8c4a5748",
   "metadata": {},
   "source": [
    "#### Continuous Variables\n",
    "Probability Density - The probability that $x$ lies between $a$ and $b$ is given by the integral.\n",
    "$$\n",
    "P_{ab}=\\int_{a}^{b}\\rho(x)dx\n",
    "$$\n",
    "Corresponding properties to match descrete variants:\n",
    "\\begin{align*}\n",
    "&\\int_{-\\infty}^{+\\infty}\\rho(x)dx=1\\\\\n",
    "&\\langle x\\rangle=\\int_{-\\infty}^{+\\infty}x\\rho(x)dx\\\\\n",
    "&\\langle f(x)\\rangle=\\int_{-\\infty}^{+\\infty}f(x)\\rho(x)dx\\\\\n",
    "&\\sigma^{2}\\equiv\\langle x^2\\rangle-\\langle x\\rangle^2\n",
    "\\end{align*}"
   ]
  },
  {
   "cell_type": "markdown",
   "id": "3e94047e-b712-4c65-96af-0a39af518ece",
   "metadata": {},
   "source": [
    "Continuous Example:<br>\n",
    "Object falls from Height $h$. One million distance measurements at random intervals are taken as the object falls (this large sample emulates the whole continuum). What is the time average of the distance traveled?<br>\n",
    "Answer:<br>\n",
    "In vacuum, the distance $x$ at time $t$ is:\n",
    "$$\n",
    "x(t)=\\frac{1}{2}gt^2\n",
    "$$\n",
    "The velocity is $dx/dt = gt$, the total flight time is $T=\\sqrt{2h/g}$, and the probability that a measurement was taken between $t$ and $t+dt$ is $dt/T$.<br> \n",
    "\\begin{align*}\n",
    "\\frac{dt}{T}&=\\frac{dx}{gt}\\sqrt{\\frac{g}{2h}}\n",
    "\\end{align*}\n",
    "Solve for $t$ using the distance equation:<br>\n",
    "\\begin{align*}\n",
    "x&=\\frac{1}{2}gt^2\\rightarrow 2x=gt^2\\rightarrow \\frac{2x}{g}=t^2\\rightarrow t=\\sqrt{\\frac{2x}{g}}\n",
    "\\end{align*}\n",
    "Plug in $t$ and solve:\n",
    "\\begin{align*}\n",
    "\\frac{dt}{T}&=\\frac{dx\\sqrt{g}}{g\\sqrt{\\frac{2x}{g}}\\sqrt{2h}}=\\frac{dx\\sqrt{g}}{\\sqrt{2xg}\\sqrt{2h}}=\\frac{dx}{\\sqrt{2x}\\sqrt{2h}}=\\frac{dx}{2\\sqrt{xh}}\n",
    "\\end{align*}\n",
    "The probability density is:\n",
    "\\begin{align*}\n",
    "\\rho(x)=\\frac{dx}{2\\sqrt{xh}} \\ \\ \\ \\text{ where. } \\ \\ \\ (0\\le x\\le h) \n",
    "\\end{align*}"
   ]
  },
  {
   "cell_type": "code",
   "execution_count": null,
   "id": "ac8be3cb-d843-473d-af35-67aa5728f027",
   "metadata": {},
   "outputs": [],
   "source": []
  }
 ],
 "metadata": {
  "kernelspec": {
   "display_name": "Quantum_Mechanics_venv",
   "language": "python",
   "name": "quantum_mechanics_venv"
  },
  "language_info": {
   "codemirror_mode": {
    "name": "ipython",
    "version": 3
   },
   "file_extension": ".py",
   "mimetype": "text/x-python",
   "name": "python",
   "nbconvert_exporter": "python",
   "pygments_lexer": "ipython3",
   "version": "3.12.6"
  }
 },
 "nbformat": 4,
 "nbformat_minor": 5
}
