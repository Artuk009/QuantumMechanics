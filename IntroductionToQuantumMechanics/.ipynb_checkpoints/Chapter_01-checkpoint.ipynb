{
 "cells": [
  {
   "cell_type": "code",
   "execution_count": 1,
   "id": "c4b1f386-83d7-4308-90f4-20b6dea64f3e",
   "metadata": {},
   "outputs": [],
   "source": [
    "# Author: Brent Artuch\n",
    "# Date: 2024-10-04\n",
    "import numpy as np\n",
    "import sympy as sp\n",
    "import pandas as pd\n",
    "from IPython.display import *\n",
    "import matplotlib.pyplot as plt\n",
    "\n",
    "sp.init_printing()"
   ]
  },
  {
   "cell_type": "markdown",
   "id": "5b41b8ef-4435-4b7a-8619-571c6d259bb1",
   "metadata": {},
   "source": [
    "## 1.3 - Probability\n",
    "#### Discrete Variables\n",
    "Imagine a room of 14 people with the following ages:\n",
    "* 1 person age 14\n",
    "* 1 person age 15\n",
    "* 3 people age 16\n",
    "* 2 people age 22\n",
    "* 2 people age 24\n",
    "* 5 people age 25\n",
    "<br><br>\n",
    "We can reference the number of people by age with the function $N(j)$, where $j$ is the age value."
   ]
  },
  {
   "cell_type": "code",
   "execution_count": 2,
   "id": "02dec472-e6b8-4ae2-a767-c3bf89d4b9a3",
   "metadata": {},
   "outputs": [
    {
     "data": {
      "image/png": "[encoded data removed]",
      "text/latex": [
       "$\\displaystyle 2$"
      ],
      "text/plain": [
       "2"
      ]
     },
     "execution_count": 2,
     "metadata": {},
     "output_type": "execute_result"
    }
   ],
   "source": [
    "R = [(1,14),(1,15),(3,16),(2,22),(2,24),(5,25)]\n",
    "def number_of_people(age, R):\n",
    "    for age_count in R:\n",
    "        if age_count[1] == age:\n",
    "            return age_count[0]\n",
    "    print(\"No one in the room is the given age.\")\n",
    "\n",
    "number_of_people(22, R)"
   ]
  },
  {
   "cell_type": "markdown",
   "id": "2e5126cd-14f2-48df-80e3-88ee69f7ed10",
   "metadata": {},
   "source": [
    "The total number of people $N$ can be expressed by the function: $$N=\\sum_{j=0}^{\\infty}N(j)$$"
   ]
  },
  {
   "cell_type": "code",
   "execution_count": 3,
   "id": "5100b06d-a858-435b-909c-92f48759662b",
   "metadata": {},
   "outputs": [
    {
     "data": {
      "image/png": "[encoded data removed]",
      "text/latex": [
       "$\\displaystyle 14$"
      ],
      "text/plain": [
       "14"
      ]
     },
     "execution_count": 3,
     "metadata": {},
     "output_type": "execute_result"
    }
   ],
   "source": [
    "def total_number_of_people(R):\n",
    "    total = 0\n",
    "    for age_count in R:\n",
    "        total += number_of_people(age_count[1], R)\n",
    "    return total\n",
    "\n",
    "total_number_of_people(R)"
   ]
  },
  {
   "cell_type": "code",
   "execution_count": 4,
   "id": "69b52c1a-5b7f-4584-82ba-3025f0823011",
   "metadata": {},
   "outputs": [
    {
     "data": {
      "text/plain": [
       "<Axes: ylabel='Frequency'>"
      ]
     },
     "execution_count": 4,
     "metadata": {},
     "output_type": "execute_result"
    },
    {
     "data": {
      "image/png": "[encoded data removed]",
      "text/plain": [
       "<Figure size 640x480 with 1 Axes>"
      ]
     },
     "metadata": {},
     "output_type": "display_data"
    }
   ],
   "source": [
    "# Histogram plot showing the number of prople for each N(j)\n",
    "data = [14,15,16,16,16,22,22,24,24,25,25,25,25,25]\n",
    "room = pd.Series(data)\n",
    "room.plot.hist(bins=20)"
   ]
  },
  {
   "cell_type": "code",
   "execution_count": null,
   "id": "01105694-21d7-4321-93cf-19db708a68c0",
   "metadata": {},
   "outputs": [],
   "source": []
  }
 ],
 "metadata": {
  "kernelspec": {
   "display_name": "Quantum_Mechanics_venv",
   "language": "python",
   "name": "quantum_mechanics_venv"
  },
  "language_info": {
   "codemirror_mode": {
    "name": "ipython",
    "version": 3
   },
   "file_extension": ".py",
   "mimetype": "text/x-python",
   "name": "python",
   "nbconvert_exporter": "python",
   "pygments_lexer": "ipython3",
   "version": "3.12.6"
  }
 },
 "nbformat": 4,
 "nbformat_minor": 5
}
