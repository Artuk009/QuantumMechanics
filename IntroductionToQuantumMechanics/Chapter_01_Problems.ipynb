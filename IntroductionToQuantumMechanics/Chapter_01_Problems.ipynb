{
 "cells": [
  {
   "cell_type": "code",
   "execution_count": 1,
   "id": "5ca9ac61-34f1-492c-b24b-7c52e363cdcc",
   "metadata": {},
   "outputs": [],
   "source": [
    "# Author: Brent Artuch\n",
    "# Date: 2024-10-25\n",
    "\n",
    "import sympy as sp\n",
    "import numpy as np\n",
    "import matplotlib.pyplot as plt\n",
    "\n",
    "sp.init_printing()"
   ]
  },
  {
   "cell_type": "markdown",
   "id": "0225bca4-294d-4be0-b021-2f5a25b10f0c",
   "metadata": {},
   "source": [
    "1.3 - Consider the Gaussian distribution:\n",
    "\\begin{align*}\n",
    "\\rho(x)=Ae^{-\\lambda(x-a)^2}\n",
    "\\end{align*}\n",
    "where $A$, $a$, and $\\lambda$ are positive real constants."
   ]
  },
  {
   "cell_type": "markdown",
   "id": "8acb6734-bd15-41da-9cb4-29342f931ea5",
   "metadata": {},
   "source": [
    "a) Determine the value of $A$:<br>\n",
    "Answer - To solve for $A$, we need to use the probability density equation:\n",
    "\\begin{align*}\n",
    "\\int_{-\\infty}^{\\infty}\\rho(x)dx=1\n",
    "\\end{align*}\n",
    "So, we plug in the value of $\\rho(x)$ and solve for $A$:\n",
    "\\begin{align*}\n",
    "\\int_{-\\infty}^{\\infty}Ae^{-\\lambda(x-a)^2}dx=1\n",
    "\\end{align*}\n",
    "Recall that the definite integral of an arbitrary gaussian function is:\n",
    "\\begin{align*}\n",
    "\\int_{-\\infty}^{\\infty}e^{-a(x+b)^2}dx=\\sqrt{\\frac{\\pi}{a}}\n",
    "\\end{align*}"
   ]
  },
  {
   "cell_type": "markdown",
   "id": "1ce2eafa-d39f-4df3-b361-12b8627ef136",
   "metadata": {},
   "source": [
    "So\n",
    "\\begin{align*}\n",
    "1&=\\int_{-\\infty}^{\\infty}Ae^{-\\lambda(x-a)^2}dx=A\\int_{-\\infty}^{\\infty}e^{-\\lambda(x-a)^2}dx=A\\sqrt{\\frac{\\pi}{\\lambda}}\\\\\n",
    "A&=\\sqrt{\\frac{\\lambda}{\\pi}}\n",
    "\\end{align*}"
   ]
  },
  {
   "cell_type": "markdown",
   "id": "a3e0684f-cd76-4acd-bc76-617a0f9e3cd9",
   "metadata": {},
   "source": [
    "b) Find $\\langle x \\rangle$, $\\langle x^2 \\rangle$, and $\\sigma$.<br>\n",
    "Answer:\n",
    "\\begin{align*}\n",
    "\\langle x \\rangle=\\int_{-\\infty}^{\\infty}x\\rho(x)dx=\\int_{-\\infty}^{\\infty}xAe^{-\\lambda(x-a)^2}dx\n",
    "\\end{align*}\n",
    "For this problem, we will use the substitution $u=x-a$ and $dx=du$:\n",
    "\\begin{align*}\n",
    "\\langle x \\rangle=\\int_{-\\infty}^{\\infty}(u+a)Ae^{-\\lambda u^2}du=A\\int_{-\\infty}^{\\infty}ue^{\\lambda u^2}du+a\\int_{-\\infty}^{\\infty}Ae^{\\lambda u^2}du\n",
    "\\end{align*}"
   ]
  },
  {
   "cell_type": "markdown",
   "id": "4a71e70b-4cd3-4982-a424-2cb78e350728",
   "metadata": {},
   "source": [
    "By definition:\n",
    "\\begin{align*}\n",
    "\\int_{-\\infty}^{\\infty}Ae^{\\lambda u^2}du=\\int_{-\\infty}^{\\infty}Ae^{\\lambda (x-a)^2}dx=\\rho(x)=1\n",
    "\\end{align*}"
   ]
  },
  {
   "cell_type": "markdown",
   "id": "86c3af1d-d5f0-40f7-b524-3dcc1d681b66",
   "metadata": {},
   "source": [
    "So:\n",
    "\\begin{align*}\n",
    "\\langle x \\rangle=A\\int_{-\\infty}^{\\infty}ue^{\\lambda u^2}du+a(1)=A\\int_{-\\infty}^{\\infty}ue^{\\lambda u^2}du+a\n",
    "\\end{align*}"
   ]
  },
  {
   "cell_type": "markdown",
   "id": "14017d80-dbc5-44e1-8ca9-f01c782af258",
   "metadata": {},
   "source": [
    "Recall the definite integral of an odd function from $-a$ to $a$ is:\n",
    "\\begin{align*}\n",
    "\\int_{-a}^{a}f(x)dx=0\n",
    "\\end{align*}\n",
    "where $f(-x)=-f(x)$."
   ]
  },
  {
   "cell_type": "markdown",
   "id": "94466559-b377-4553-9a2e-afa4197fc902",
   "metadata": {},
   "source": [
    "When testing the remaining integral function of our equation, we observe that:\n",
    "\\begin{align*}\n",
    "f(u)&=ue^{\\lambda u^2}\\\\\n",
    "f(-u)&=-ue^{\\lambda -u^2}=-f(u)\n",
    "\\end{align*}"
   ]
  },
  {
   "cell_type": "markdown",
   "id": "55718eb1-cf92-456f-a9ad-dae339400983",
   "metadata": {},
   "source": [
    "Which tells us that:\n",
    "\\begin{align*}\n",
    "\\int_{-\\infty}^{\\infty}ue^{\\lambda u^2}du=0\n",
    "\\end{align*}"
   ]
  },
  {
   "cell_type": "markdown",
   "id": "a753bfe3-05d0-4c86-a75f-1bbf6714676a",
   "metadata": {},
   "source": [
    "Therefore:\n",
    "\\begin{align*}\n",
    "\\langle x \\rangle=A\\int_{-\\infty}^{\\infty}ue^{\\lambda u^2}du+a=A(0)+a\n",
    "\\end{align*}"
   ]
  },
  {
   "cell_type": "markdown",
   "id": "7bb1baf7-7ee2-47f4-b362-b111d61cb0be",
   "metadata": {},
   "source": [
    "\\begin{align*}\n",
    "\\langle x^2 \\rangle=\\int_{-\\infty}^{\\infty}x^2\\rho(x)dx=\\int_{-\\infty}^{\\infty}x^2Ae^{-\\lambda(x-a)^2}dx\n",
    "\\end{align*}"
   ]
  },
  {
   "cell_type": "markdown",
   "id": "5c100e6f-d777-406b-904d-5728a996c0e9",
   "metadata": {},
   "source": [
    "As for the previous function, we will using the substitutions $u=x-a$ and $dx=du$:\n",
    "\\begin{align*}\n",
    "\\langle x^2 \\rangle=\\int_{-\\infty}^{\\infty}(u+a)^2Ae^{-\\lambda u^2}du=\\int_{-\\infty}^{\\infty}(u^2+2au+u^2)Ae^{-\\lambda u^2}du=A\\left[\\int_{-\\infty}^{\\infty}u^2e^{-\\lambda u^2}du+2a\\int_{-\\infty}^{\\infty}ue^{-\\lambda u^2}du+a^2\\int_{-\\infty}^{\\infty}e^{-\\lambda u^2}du\\right]\n",
    "\\end{align*}"
   ]
  },
  {
   "cell_type": "markdown",
   "id": "c1295285-bc91-4f2c-b127-49a652a56a00",
   "metadata": {},
   "source": [
    "We know from the preivous solution for $\\langle x \\rangle$ that the second an third integrals will be $0$ and $1$ respectively after multiplying through with $A$, so:\n",
    "\\begin{align*}\n",
    "\\langle x^2 \\rangle=A\\int_{-\\infty}^{\\infty}u^2e^{-\\lambda u^2}du+A(2a)(0)+a^2(1)=A\\int_{-\\infty}^{\\infty}u^2e^{-\\lambda u^2}du+a^2\n",
    "\\end{align*}"
   ]
  },
  {
   "cell_type": "markdown",
   "id": "364e60d0-49c7-4fc9-bf2b-1e6b805d4084",
   "metadata": {},
   "source": [
    "To evaluate the final integral we need to use the definition of the Gaussian integral from before: \n",
    "\\begin{align*}\n",
    "\\int_{-\\infty}^{\\infty}e^{-\\lambda(x-a)^2}dx=\\sqrt{\\frac{\\pi}{\\lambda}}\n",
    "\\end{align*}"
   ]
  },
  {
   "cell_type": "markdown",
   "id": "ceb279ee-48cd-436e-88d1-a168de6e01a6",
   "metadata": {},
   "source": [
    "Now we need to differentiate both sides of this expression with respect to $\\lambda$:\n",
    "\\begin{align*}\n",
    "&\\frac{d}{d\\lambda}\\left(\\int_{-\\infty}^{\\infty}e^{-\\lambda(x-a)^2}dx=\\sqrt{\\frac{\\pi}{\\lambda}}\\right)\\\\\n",
    "&\\int_{-\\infty}^{\\infty}u^2e^{-\\lambda u^2}du=\\sqrt{\\pi}\\frac{1}{2}\\lambda^{3/2}=\\frac{1}{2\\lambda}\\sqrt{\\frac{\\pi}{\\lambda}}\n",
    "\\end{align*}"
   ]
  },
  {
   "cell_type": "markdown",
   "id": "54621305-4af1-415d-b7b5-e23c19ed726a",
   "metadata": {},
   "source": [
    "Lastly, we can plug this value into our equation and simplify:\n",
    "\\begin{align*}\n",
    "\\langle x^2 \\rangle=A\\frac{1}{2\\lambda}\\sqrt{\\frac{\\pi}{\\lambda}}+a^2=\\sqrt{\\frac{\\lambda}{\\pi}}\\frac{1}{2\\lambda}\\sqrt{\\frac{\\pi}{\\lambda}}+a^2=\\frac{1}{2\\lambda}+a^2\n",
    "\\end{align*}"
   ]
  },
  {
   "cell_type": "markdown",
   "id": "5c6b7bc7-61a7-461a-938c-16e4bfd90fca",
   "metadata": {},
   "source": [
    "Then the expectation value of the variance is:\n",
    "\\begin{align*}\n",
    "\\sigma^2 = \\langle x^2\\rangle-\\langle x\\rangle^2=\\frac{1}{2\\lambda}+a^2-a^2=\\frac{1}{2\\lambda}\n",
    "\\end{align*}\n",
    "and the expectation value of the standard deviation is:\n",
    "\\begin{align*}\n",
    "\\sigma =\\sqrt{\\frac{1}{2\\lambda}}=\\frac{1}{\\sqrt{2\\lambda}}\n",
    "\\end{align*}"
   ]
  }
 ],
 "metadata": {
  "kernelspec": {
   "display_name": "Quantum_Mechanics_venv",
   "language": "python",
   "name": "quantum_mechanics_venv"
  },
  "language_info": {
   "codemirror_mode": {
    "name": "ipython",
    "version": 3
   },
   "file_extension": ".py",
   "mimetype": "text/x-python",
   "name": "python",
   "nbconvert_exporter": "python",
   "pygments_lexer": "ipython3",
   "version": "3.12.7"
  }
 },
 "nbformat": 4,
 "nbformat_minor": 5
}
