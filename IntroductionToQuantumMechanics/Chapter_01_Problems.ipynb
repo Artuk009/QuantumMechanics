{
 "cells": [
  {
   "cell_type": "code",
   "execution_count": 1,
   "id": "5ca9ac61-34f1-492c-b24b-7c52e363cdcc",
   "metadata": {},
   "outputs": [],
   "source": [
    "# Author: Brent Artuch\n",
    "# Date: 2024-10-25\n",
    "\n",
    "import sympy as sp\n",
    "import numpy as np\n",
    "import spb\n",
    "import matplotlib.pyplot as plt\n",
    "\n",
    "sp.init_printing()"
   ]
  },
  {
   "cell_type": "markdown",
   "id": "0225bca4-294d-4be0-b021-2f5a25b10f0c",
   "metadata": {},
   "source": [
    "1.3 - Consider the Gaussian distribution:\n",
    "\\begin{align*}\n",
    "\\rho(x)=Ae^{-\\lambda(x-a)^2}\n",
    "\\end{align*}\n",
    "where $A$, $a$, and $\\lambda$ are positive real constants."
   ]
  },
  {
   "cell_type": "markdown",
   "id": "8acb6734-bd15-41da-9cb4-29342f931ea5",
   "metadata": {},
   "source": [
    "a) Determine the value of $A$:<br>\n",
    "Answer - To solve for $A$, we need to use the probability density equation:\n",
    "\\begin{align*}\n",
    "\\int_{-\\infty}^{\\infty}\\rho(x)dx=1\n",
    "\\end{align*}\n",
    "So, we plug in the value of $\\rho(x)$ and solve for $A$:\n",
    "\\begin{align*}\n",
    "\\int_{-\\infty}^{\\infty}Ae^{-\\lambda(x-a)^2}dx=1\n",
    "\\end{align*}\n",
    "Recall that the definite integral of an arbitrary gaussian function is:\n",
    "\\begin{align*}\n",
    "\\int_{-\\infty}^{\\infty}e^{-a(x+b)^2}dx=\\sqrt{\\frac{\\pi}{a}}\n",
    "\\end{align*}"
   ]
  },
  {
   "cell_type": "markdown",
   "id": "1ce2eafa-d39f-4df3-b361-12b8627ef136",
   "metadata": {},
   "source": [
    "So\n",
    "\\begin{align*}\n",
    "1&=\\int_{-\\infty}^{\\infty}Ae^{-\\lambda(x-a)^2}dx=A\\int_{-\\infty}^{\\infty}e^{-\\lambda(x-a)^2}dx=A\\sqrt{\\frac{\\pi}{\\lambda}}\\\\\n",
    "A&=\\sqrt{\\frac{\\lambda}{\\pi}}\n",
    "\\end{align*}"
   ]
  },
  {
   "cell_type": "markdown",
   "id": "a3e0684f-cd76-4acd-bc76-617a0f9e3cd9",
   "metadata": {},
   "source": [
    "b) Find $\\langle x \\rangle$, $\\langle x^2 \\rangle$, and $\\sigma$.<br>\n",
    "Answer:\n",
    "\\begin{align*}\n",
    "\\langle x \\rangle=\\int_{-\\infty}^{\\infty}x\\rho(x)dx=\\int_{-\\infty}^{\\infty}xAe^{-\\lambda(x-a)^2}dx\n",
    "\\end{align*}\n",
    "For this problem, we will use the substitution $u=x-a$ and $dx=du$:\n",
    "\\begin{align*}\n",
    "\\langle x \\rangle=\\int_{-\\infty}^{\\infty}(u+a)Ae^{-\\lambda u^2}du=A\\int_{-\\infty}^{\\infty}ue^{\\lambda u^2}du+a\\int_{-\\infty}^{\\infty}Ae^{\\lambda u^2}du\n",
    "\\end{align*}"
   ]
  },
  {
   "cell_type": "markdown",
   "id": "4a71e70b-4cd3-4982-a424-2cb78e350728",
   "metadata": {},
   "source": [
    "By definition:\n",
    "\\begin{align*}\n",
    "\\int_{-\\infty}^{\\infty}Ae^{\\lambda u^2}du=\\int_{-\\infty}^{\\infty}Ae^{\\lambda (x-a)^2}dx=\\rho(x)=1\n",
    "\\end{align*}"
   ]
  },
  {
   "cell_type": "markdown",
   "id": "86c3af1d-d5f0-40f7-b524-3dcc1d681b66",
   "metadata": {},
   "source": [
    "So:\n",
    "\\begin{align*}\n",
    "\\langle x \\rangle=A\\int_{-\\infty}^{\\infty}ue^{\\lambda u^2}du+a(1)=A\\int_{-\\infty}^{\\infty}ue^{\\lambda u^2}du+a\n",
    "\\end{align*}"
   ]
  },
  {
   "cell_type": "markdown",
   "id": "14017d80-dbc5-44e1-8ca9-f01c782af258",
   "metadata": {},
   "source": [
    "Recall the definite integral of an odd function from $-a$ to $a$ is:\n",
    "\\begin{align*}\n",
    "\\int_{-a}^{a}f(x)dx=0\n",
    "\\end{align*}\n",
    "where $f(-x)=-f(x)$."
   ]
  },
  {
   "cell_type": "markdown",
   "id": "94466559-b377-4553-9a2e-afa4197fc902",
   "metadata": {},
   "source": [
    "When testing the remaining integral function of our equation, we observe that:\n",
    "\\begin{align*}\n",
    "f(u)&=ue^{\\lambda u^2}\\\\\n",
    "f(-u)&=-ue^{\\lambda -u^2}=-f(u)\n",
    "\\end{align*}"
   ]
  },
  {
   "cell_type": "markdown",
   "id": "55718eb1-cf92-456f-a9ad-dae339400983",
   "metadata": {},
   "source": [
    "Which tells us that:\n",
    "\\begin{align*}\n",
    "\\int_{-\\infty}^{\\infty}ue^{\\lambda u^2}du=0\n",
    "\\end{align*}"
   ]
  },
  {
   "cell_type": "markdown",
   "id": "a753bfe3-05d0-4c86-a75f-1bbf6714676a",
   "metadata": {},
   "source": [
    "Therefore:\n",
    "\\begin{align*}\n",
    "\\langle x \\rangle=A\\int_{-\\infty}^{\\infty}ue^{\\lambda u^2}du+a=A(0)+a\n",
    "\\end{align*}"
   ]
  },
  {
   "cell_type": "markdown",
   "id": "7bb1baf7-7ee2-47f4-b362-b111d61cb0be",
   "metadata": {},
   "source": [
    "\\begin{align*}\n",
    "\\langle x^2 \\rangle=\\int_{-\\infty}^{\\infty}x^2\\rho(x)dx=\\int_{-\\infty}^{\\infty}x^2Ae^{-\\lambda(x-a)^2}dx\n",
    "\\end{align*}"
   ]
  },
  {
   "cell_type": "markdown",
   "id": "5c100e6f-d777-406b-904d-5728a996c0e9",
   "metadata": {},
   "source": [
    "As for the previous function, we will using the substitutions $u=x-a$ and $dx=du$:\n",
    "\\begin{align*}\n",
    "\\langle x^2 \\rangle=\\int_{-\\infty}^{\\infty}(u+a)^2Ae^{-\\lambda u^2}du=\\int_{-\\infty}^{\\infty}(u^2+2au+u^2)Ae^{-\\lambda u^2}du=A\\left[\\int_{-\\infty}^{\\infty}u^2e^{-\\lambda u^2}du+2a\\int_{-\\infty}^{\\infty}ue^{-\\lambda u^2}du+a^2\\int_{-\\infty}^{\\infty}e^{-\\lambda u^2}du\\right]\n",
    "\\end{align*}"
   ]
  },
  {
   "cell_type": "markdown",
   "id": "c1295285-bc91-4f2c-b127-49a652a56a00",
   "metadata": {},
   "source": [
    "We know from the preivous solution for $\\langle x \\rangle$ that the second an third integrals will be $0$ and $1$ respectively after multiplying through with $A$, so:\n",
    "\\begin{align*}\n",
    "\\langle x^2 \\rangle=A\\int_{-\\infty}^{\\infty}u^2e^{-\\lambda u^2}du+A(2a)(0)+a^2(1)=A\\int_{-\\infty}^{\\infty}u^2e^{-\\lambda u^2}du+a^2\n",
    "\\end{align*}"
   ]
  },
  {
   "cell_type": "markdown",
   "id": "364e60d0-49c7-4fc9-bf2b-1e6b805d4084",
   "metadata": {},
   "source": [
    "To evaluate the final integral we need to use the definition of the Gaussian integral from before: \n",
    "\\begin{align*}\n",
    "\\int_{-\\infty}^{\\infty}e^{-\\lambda(x-a)^2}dx=\\sqrt{\\frac{\\pi}{\\lambda}}\n",
    "\\end{align*}"
   ]
  },
  {
   "cell_type": "markdown",
   "id": "ceb279ee-48cd-436e-88d1-a168de6e01a6",
   "metadata": {},
   "source": [
    "Now we need to differentiate both sides of this expression with respect to $\\lambda$:\n",
    "\\begin{align*}\n",
    "&\\frac{d}{d\\lambda}\\left(\\int_{-\\infty}^{\\infty}e^{-\\lambda(x-a)^2}dx=\\sqrt{\\frac{\\pi}{\\lambda}}\\right)\\\\\n",
    "&\\int_{-\\infty}^{\\infty}u^2e^{-\\lambda u^2}du=\\sqrt{\\pi}\\frac{1}{2}\\lambda^{3/2}=\\frac{1}{2\\lambda}\\sqrt{\\frac{\\pi}{\\lambda}}\n",
    "\\end{align*}"
   ]
  },
  {
   "cell_type": "markdown",
   "id": "54621305-4af1-415d-b7b5-e23c19ed726a",
   "metadata": {},
   "source": [
    "Lastly, we can plug this value into our equation and simplify:\n",
    "\\begin{align*}\n",
    "\\langle x^2 \\rangle=A\\frac{1}{2\\lambda}\\sqrt{\\frac{\\pi}{\\lambda}}+a^2=\\sqrt{\\frac{\\lambda}{\\pi}}\\frac{1}{2\\lambda}\\sqrt{\\frac{\\pi}{\\lambda}}+a^2=\\frac{1}{2\\lambda}+a^2\n",
    "\\end{align*}"
   ]
  },
  {
   "cell_type": "markdown",
   "id": "5c6b7bc7-61a7-461a-938c-16e4bfd90fca",
   "metadata": {},
   "source": [
    "Then the variance is:\n",
    "\\begin{align*}\n",
    "\\sigma^2 = \\langle x^2\\rangle-\\langle x\\rangle^2=\\frac{1}{2\\lambda}+a^2-a^2=\\frac{1}{2\\lambda}\n",
    "\\end{align*}\n",
    "and the standard deviation is:\n",
    "\\begin{align*}\n",
    "\\sigma =\\sqrt{\\frac{1}{2\\lambda}}=\\frac{1}{\\sqrt{2\\lambda}}\n",
    "\\end{align*}"
   ]
  },
  {
   "cell_type": "code",
   "execution_count": 2,
   "id": "974cc599-e307-4164-91df-cf4194aa2f15",
   "metadata": {},
   "outputs": [
    {
     "data": {
      "image/png": "[encoded data removed]",
      "text/plain": [
       "<Figure size 640x480 with 1 Axes>"
      ]
     },
     "metadata": {},
     "output_type": "display_data"
    },
    {
     "data": {
      "text/plain": [
       "<spb.backends.matplotlib.matplotlib.MatplotlibBackend at 0x252fff7b380>"
      ]
     },
     "execution_count": 2,
     "metadata": {},
     "output_type": "execute_result"
    }
   ],
   "source": [
    "x = sp.symbols(\"x\")\n",
    "rhox = 1*sp.exp(-1*(x-0.75)**2)\n",
    "spb.plot((rhox), xlim=(-2,3), ylim=(0,1.2), ylabel=r\"$\\rho(x)$\", title=r\"$\\rho(x)=Ae^{-\\lambda(x-a)^2}$\")"
   ]
  },
  {
   "cell_type": "markdown",
   "id": "f68bf16b-d03f-41e9-81ec-5c1ea199f0b5",
   "metadata": {},
   "source": [
    "1.5 - Consider the wave function:\n",
    "\\begin{align*}\n",
    "\\Psi(x,t)=Ae^{-\\lambda|x|}e^{-i\\omega t}\n",
    "\\end{align*}\n",
    "where $A$, $\\lambda$, and $\\omega$ are positive real constants."
   ]
  },
  {
   "cell_type": "markdown",
   "id": "f4123a3b-8863-4a7c-8efe-08b7a6b39aa2",
   "metadata": {},
   "source": [
    "a) Normalize $\\Psi$.<br>\n",
    "Answer - For a wave function to be normalized:\n",
    "\\begin{align*}\n",
    "\\int_{-\\infty}^{+\\infty}|\\Psi(x,t)|^2 \\ dx=\\int_{-\\infty}^{+\\infty}\\Psi^*\\Psi \\ dx=1\n",
    "\\end{align*}"
   ]
  },
  {
   "cell_type": "markdown",
   "id": "8dd66a33-bf06-43d3-a0f6-7581a8ba8f9d",
   "metadata": {},
   "source": [
    "After pluging in the wave function we have:\n",
    "\\begin{align*}\n",
    "1&=\\int_{-\\infty}^{+\\infty}|Ae^{-\\lambda|x|}e^{-i\\omega t}|^2 \\ dx=\\int_{-\\infty}^{+\\infty}(Ae^{-\\lambda|x|}e^{-i\\omega t})^*(Ae^{-\\lambda|x|}e^{-i\\omega t})\\ dx\\\\\n",
    "&=\\int_{-\\infty}^{+\\infty}(Ae^{-\\lambda|x|}e^{i\\omega t})(Ae^{-\\lambda|x|}e^{-i\\omega t})\\ dx=\\int_{-\\infty}^{+\\infty}|A|^2e^{-2\\lambda|x|}\\ dx=|A|^2\\int_{-\\infty}^{+\\infty}e^{-2\\lambda|x|}\\ dx\n",
    "\\end{align*}"
   ]
  },
  {
   "cell_type": "markdown",
   "id": "3190ed37-af3b-4e25-ba8f-bd3776642caa",
   "metadata": {},
   "source": [
    "Recall that the definite integral of an even funciton $f(x)$ from $-a$ to $a$ is:\n",
    "\\begin{align*}\n",
    "\\int_{-a}^{a}f(x) \\ dx=2\\int_{0}^{a}f(x)\\ dx\n",
    "\\end{align*}"
   ]
  },
  {
   "cell_type": "markdown",
   "id": "89e73af2-9c0c-4105-8549-fa7531b16cca",
   "metadata": {},
   "source": [
    "Since this exponential is even:\n",
    "\\begin{align*}\n",
    "1&=2|A|^2\\int_{0}^{+\\infty}e^{-2\\lambda x}\\ dx\n",
    "\\end{align*}\n",
    "Notice we dropped the absolute value operation on $x$ because know we are only dealing with the interval where $x\\ge 0$."
   ]
  },
  {
   "cell_type": "markdown",
   "id": "16b0e7fc-b091-4413-bdd8-37aaa2066fe7",
   "metadata": {},
   "source": [
    "Recall that the definite integral from $a$ to $b$ of an exponential function is:\n",
    "\\begin{align*}\n",
    "\\int_{a}^{b}e^{ax}\\ dx=\\left(\\frac{e^{ax}}{a}\\right)\\Big|_a^b\n",
    "\\end{align*}"
   ]
  },
  {
   "cell_type": "markdown",
   "id": "04a0cef5-575f-47e6-8110-e329affafd42",
   "metadata": {},
   "source": [
    "So our equation takes the form:\n",
    "\\begin{align*}\n",
    "1&=2|A|^2\\left(\\frac{e^{-2\\lambda x}}{-2\\lambda}\\right)\\Big|_{0}^{\\infty}=2|A|^2\\left(\\frac{e^{-2\\lambda (\\infty)}}{-2\\lambda}-\\frac{e^{-2\\lambda (0)}}{-2\\lambda}\\right)=2|A|^2\\left(0-\\frac{1}{-2\\lambda}\\right)=\\frac{|A|^2}{\\lambda}\n",
    "\\end{align*}\n",
    "And\n",
    "\\begin{align*}\n",
    "A=\\sqrt{\\lambda}\n",
    "\\end{align*}"
   ]
  },
  {
   "cell_type": "markdown",
   "id": "5440f4b9-ad7e-49d7-a3b3-f34cd2958c8a",
   "metadata": {},
   "source": [
    "b) Determine the expectation values of $x$ and $x^2$.<br>\n",
    "Answer - To find the expectation value of $x$ we use:\n",
    "\\begin{align*}\n",
    "\\langle x \\rangle=\\int_{-\\infty}^{+\\infty}x|\\Psi(x,t)|^2 \\ dx=\\int_{-\\infty}^{+\\infty}x\\Psi^*\\Psi \\ dx\n",
    "\\end{align*}"
   ]
  },
  {
   "cell_type": "markdown",
   "id": "f9854d34-84fc-4e4a-8d29-cc86564f2004",
   "metadata": {},
   "source": [
    "After plugging in the result from part a:\n",
    "\\begin{align*}\n",
    "\\langle x \\rangle=|A|^2\\int_{-\\infty}^{+\\infty}xe^{-2\\lambda|x|}\\ dx\n",
    "\\end{align*}"
   ]
  },
  {
   "cell_type": "markdown",
   "id": "80957a10-6cce-479b-a27f-d6d7fdeac968",
   "metadata": {},
   "source": [
    "Recall that if we take the definite integral of an odd function $f(x)$ from $-a$ to $a$ we get:\n",
    "\\begin{align*}\n",
    "\\int_{-a}^{a}f(x) \\ dx=0\n",
    "\\end{align*}"
   ]
  },
  {
   "cell_type": "markdown",
   "id": "dcd938d8-71fc-443d-bbfc-775bd0b2ca4d",
   "metadata": {},
   "source": [
    "Since the exponential function is odd:\n",
    "\\begin{align*}\n",
    "\\langle x \\rangle=|A|^2(0)=0\n",
    "\\end{align*}"
   ]
  },
  {
   "cell_type": "markdown",
   "id": "c4585eee-82a7-4409-a1b0-143b526fe32a",
   "metadata": {},
   "source": [
    "The expectation value of $x^2$ is:\n",
    "\\begin{align*}\n",
    "\\langle x^2 \\rangle=\\int_{-\\infty}^{+\\infty}x^2|\\Psi(x,t)|^2 \\ dx=\\int_{-\\infty}^{+\\infty}x^2\\Psi^*\\Psi \\ dx\n",
    "\\end{align*}"
   ]
  },
  {
   "cell_type": "markdown",
   "id": "2afac898-2c0c-4094-a586-c3113685e976",
   "metadata": {},
   "source": [
    "After plugging in the result from part a:\n",
    "\\begin{align*}\n",
    "\\langle x^2 \\rangle=|A|^2\\int_{-\\infty}^{+\\infty}x^2e^{-2\\lambda|x|}\\ dx\n",
    "\\end{align*}"
   ]
  },
  {
   "cell_type": "markdown",
   "id": "94857fd0-20b8-41ab-96ed-296b4498d733",
   "metadata": {},
   "source": [
    "This is an even function, so as before:\n",
    "\\begin{align*}\n",
    "\\langle x^2 \\rangle&=2|A|^2\\int_{0}^{+\\infty}x^2e^{-2\\lambda x}\\ dx\n",
    "\\end{align*}\n",
    "and the absolute value operation is dropped."
   ]
  },
  {
   "cell_type": "markdown",
   "id": "0a65029e-568b-4b93-b5ff-060ed866df32",
   "metadata": {},
   "source": [
    "Recall that the procedure for integration by parts of a definite integral is denoted as follows:\n",
    "\\begin{align*}\n",
    "\\int_{a}^{b}u\\ dv=uv\\Big|_a^b-\\int_{a}^{b}v\\ du \n",
    "\\end{align*}"
   ]
  },
  {
   "cell_type": "markdown",
   "id": "bf7fd64e-73c7-43d8-98c6-74ccf941d63e",
   "metadata": {},
   "source": [
    "So:\n",
    "\\begin{align*}\n",
    "\\langle x^2 \\rangle&=2|A|^2\\left[x^2\\left(\\frac{e^{-2\\lambda x}}{-2\\lambda}\\right)\\Big|_{0}^{\\infty}-\\int_{0}^{+\\infty}2x\\left(\\frac{e^{-2\\lambda x}}{-2\\lambda}\\right)\\ dx\\right]\\\\\n",
    "&=2|A|^2\\left[\\left((\\infty)^2\\frac{e^{-2\\lambda (\\infty)}}{-2\\lambda}-(0)^2\\frac{e^{-2\\lambda (0)}}{-2\\lambda}\\right)-\\int_{0}^{+\\infty}2x\\left(\\frac{e^{-2\\lambda x}}{-2\\lambda}\\right)\\ dx\\right]\\\\\n",
    "&=2|A|^2\\left[\\left((\\infty)^2(0)-0\\right)-\\int_{0}^{+\\infty}2x\\left(\\frac{e^{-2\\lambda x}}{-2\\lambda}\\right)\\ dx\\right]\\\\\n",
    "&=2|A|^2\\left[-\\int_{0}^{+\\infty}2x\\left(\\frac{e^{-2\\lambda x}}{-2\\lambda}\\right)\\ dx\\right]\\\\\n",
    "&=2|A|^2\\left[-\\left(\\frac{2}{-2\\lambda}\\right)\\int_{0}^{+\\infty}xe^{-2\\lambda x}\\ dx\\right]\\\\\n",
    "&=2|A|^2\\left[\\frac{1}{\\lambda}\\int_{0}^{+\\infty}xe^{-2\\lambda x} \\ dx\\right]\\\\\n",
    "\\end{align*}"
   ]
  },
  {
   "cell_type": "markdown",
   "id": "f4836648-2ef1-4a9f-92b2-782dbc1cde03",
   "metadata": {},
   "source": [
    "Now we use integration by parts a second time:\n",
    "\\begin{align*}\n",
    "\\langle x^2 \\rangle\n",
    "&=2|A|^2\\frac{1}{\\lambda}\\left[x\\left(\\frac{e^{-2\\lambda x}}{-2\\lambda}\\right)\\Big|_{0}^{\\infty}-\\int_{0}^{+\\infty}\\frac{e^{-2\\lambda x}}{-2\\lambda}\\ dx\\right]\\\\\n",
    "&=2|A|^2\\frac{1}{\\lambda}\\left[0-\\int_{0}^{+\\infty}\\frac{e^{-2\\lambda x}}{-2\\lambda}\\ dx\\right]\\\\\n",
    "&=2|A|^2\\frac{1}{\\lambda}\\left[\\frac{1}{2\\lambda}\\int_{0}^{+\\infty}e^{-2\\lambda x}\\ dx\\right]\\\\\n",
    "&=2|A|^2\\frac{1}{\\lambda}\\left[\\frac{1}{2\\lambda}\\left(\\frac{e^{-2\\lambda x}}{-2\\lambda}\\right)\\Big|_{0}^{\\infty}\\right]\\\\\n",
    "&=2|A|^2\\frac{1}{\\lambda}\\left[\\frac{1}{2\\lambda}\\left(\\frac{e^{-2\\lambda (\\infty)}}{-2\\lambda}-\\frac{e^{-2\\lambda (0)}}{-2\\lambda}\\right)\\right]\\\\\n",
    "&=2|A|^2\\frac{1}{\\lambda}\\left[\\frac{1}{2\\lambda}\\left(0-\\frac{1}{-2\\lambda}\\right)\\right]\\\\\n",
    "&=2|A|^2\\frac{1}{\\lambda}\\left[\\frac{1}{2\\lambda}\\left(\\frac{1}{2\\lambda}\\right)\\right]\\\\\n",
    "&=2|A|^2\\frac{1}{4\\lambda^3}\\\\\n",
    "\\end{align*}"
   ]
  },
  {
   "cell_type": "markdown",
   "id": "3b542deb-d695-4396-9fab-c8da5b75f1bf",
   "metadata": {},
   "source": [
    "Plug in our value of $A$ from before:\n",
    "\\begin{align*}\n",
    "\\langle x^2 \\rangle\n",
    "&=\\frac{2|A|^2}{4\\lambda^3}=\\frac{2(\\sqrt{\\lambda})^2}{4\\lambda^3}=\\frac{2\\lambda}{4\\lambda^3}=\\frac{1}{2\\lambda^2}\n",
    "\\end{align*}"
   ]
  },
  {
   "cell_type": "markdown",
   "id": "5cb846dc-0ae2-4af3-b980-c1e374b357f8",
   "metadata": {},
   "source": [
    "c) Find the standard deviation of $x$ and then calculate the probability of the particle being found outside of this range.<br>\n",
    "Answer:\n",
    "Then the variance is:\n",
    "\\begin{align*}\n",
    "\\sigma^2 = \\langle x^2\\rangle-\\langle x\\rangle^2=\\frac{1}{2\\lambda^2}-0=\\frac{1}{2\\lambda^2}\n",
    "\\end{align*}\n",
    "and the standard deviation is:\n",
    "\\begin{align*}\n",
    "\\sigma =\\sqrt{\\frac{1}{2\\lambda^2}}=\\frac{1}{\\lambda\\sqrt{2}}\n",
    "\\end{align*}"
   ]
  },
  {
   "cell_type": "markdown",
   "id": "b6f5f8f8-4792-41f1-8b00-7003ab51414e",
   "metadata": {},
   "source": [
    "To calculate the probability of the particle being found outside of this range, we need to plug the standard deviation into the norm square of the wave function:\n",
    "\\begin{align*}\n",
    "|\\Psi(\\pm\\sigma)|^2=|A|^2e^{-2\\lambda|x|}=|\\sqrt{\\lambda}|^2e^{-2\\lambda|\\pm\\sigma|}=\\lambda e^{-2\\lambda\\sigma}=\\lambda e^{-2\\lambda/ \\lambda\\sqrt{2}}=\\lambda e^{-2/ \\sqrt{2}}=\\lambda e^{-\\sqrt{2}}=0.2431\\lambda\n",
    "\\end{align*}"
   ]
  },
  {
   "cell_type": "code",
   "execution_count": 3,
   "id": "ee82aeb0-d9e5-4e94-b5a7-5c7b31282cf4",
   "metadata": {},
   "outputs": [
    {
     "data": {
      "image/png": "[encoded data removed]",
      "text/plain": [
       "<Figure size 640x480 with 1 Axes>"
      ]
     },
     "metadata": {},
     "output_type": "display_data"
    },
    {
     "data": {
      "text/plain": [
       "<spb.backends.matplotlib.matplotlib.MatplotlibBackend at 0x252c4b7f5f0>"
      ]
     },
     "execution_count": 3,
     "metadata": {},
     "output_type": "execute_result"
    }
   ],
   "source": [
    "x = sp.symbols(\"x\")\n",
    "Psi_squared = sp.exp(-2*abs(x))\n",
    "spb.plot((Psi_squared), xlim=(-2,2), ylim=(-0.2,1.2), ylabel=r\"$|\\Psi(x)|^2$\", title=r\"$|\\Psi(x)|^2=|A|^2e^{-2\\lambda|x|}$\")"
   ]
  }
 ],
 "metadata": {
  "kernelspec": {
   "display_name": "Quantum_Mechanics_venv",
   "language": "python",
   "name": "quantum_mechanics_venv"
  },
  "language_info": {
   "codemirror_mode": {
    "name": "ipython",
    "version": 3
   },
   "file_extension": ".py",
   "mimetype": "text/x-python",
   "name": "python",
   "nbconvert_exporter": "python",
   "pygments_lexer": "ipython3",
   "version": "3.12.7"
  }
 },
 "nbformat": 4,
 "nbformat_minor": 5
}
