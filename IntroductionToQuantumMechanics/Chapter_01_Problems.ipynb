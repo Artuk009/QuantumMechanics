{
 "cells": [
  {
   "cell_type": "code",
   "execution_count": 1,
   "id": "5ca9ac61-34f1-492c-b24b-7c52e363cdcc",
   "metadata": {},
   "outputs": [],
   "source": [
    "# Author: Brent Artuch\n",
    "# Date: 2024-10-25\n",
    "\n",
    "import sympy as sp\n",
    "import numpy as np\n",
    "import matplotlib.pyplot as plt\n",
    "\n",
    "sp.init_printing()"
   ]
  },
  {
   "cell_type": "markdown",
   "id": "0225bca4-294d-4be0-b021-2f5a25b10f0c",
   "metadata": {},
   "source": [
    "1.3 - Consider the gaussian distribution:\n",
    "\\begin{align*}\n",
    "\\rho(x)=Ae^{-\\lambda(x-a)^2}\n",
    "\\end{align*}\n",
    "where $A$, $a$, and $\\lambda$ are positive real constants."
   ]
  },
  {
   "cell_type": "markdown",
   "id": "8acb6734-bd15-41da-9cb4-29342f931ea5",
   "metadata": {},
   "source": [
    "a) Determine the value of $A$:<br>\n",
    "Answer - To solve for $A$, we need to use the probability density equation:\n",
    "\\begin{align*}\n",
    "\\int_{-\\infty}^{\\infty}\\rho(x)dx=1\n",
    "\\end{align*}\n",
    "So, we plug in the value of $\\rho(x)$ and solve for $A$:\n",
    "\\begin{align*}\n",
    "\\int_{-\\infty}^{\\infty}Ae^{-\\lambda(x-a)^2}dx=1\n",
    "\\end{align*}\n",
    "Recall that the definite integral of an arbitrary gaussian function is:\n",
    "\\begin{align*}\n",
    "\\int_{-\\infty}^{\\infty}e^{-a(x+b)^2}dx=\\sqrt{\\frac{\\pi}{a}}\n",
    "\\end{align*}"
   ]
  },
  {
   "cell_type": "markdown",
   "id": "1ce2eafa-d39f-4df3-b361-12b8627ef136",
   "metadata": {},
   "source": [
    "So\n",
    "\\begin{align*}\n",
    "1&=\\int_{-\\infty}^{\\infty}Ae^{-\\lambda(x-a)^2}dx=A\\int_{-\\infty}^{\\infty}e^{-\\lambda(x-a)^2}dx=A\\sqrt{\\frac{\\pi}{\\lambda}}\\\\\n",
    "A&=\\sqrt{\\frac{\\lambda}{\\pi}}\n",
    "\\end{align*}"
   ]
  },
  {
   "cell_type": "markdown",
   "id": "a3e0684f-cd76-4acd-bc76-617a0f9e3cd9",
   "metadata": {},
   "source": [
    "b) Find $\\langle x \\rangle$, $\\langle x^2 \\rangle$, and $\\sigma$.<br>\n",
    "Answer:\n",
    "\\begin{align*}\n",
    "=\n",
    "\\end{align*}"
   ]
  }
 ],
 "metadata": {
  "kernelspec": {
   "display_name": "Quantum_Mechanics_venv",
   "language": "python",
   "name": "quantum_mechanics_venv"
  },
  "language_info": {
   "codemirror_mode": {
    "name": "ipython",
    "version": 3
   },
   "file_extension": ".py",
   "mimetype": "text/x-python",
   "name": "python",
   "nbconvert_exporter": "python",
   "pygments_lexer": "ipython3",
   "version": "3.12.7"
  }
 },
 "nbformat": 4,
 "nbformat_minor": 5
}
