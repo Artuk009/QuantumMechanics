{
 "cells": [
  {
   "cell_type": "code",
   "execution_count": 1,
   "id": "5ca9ac61-34f1-492c-b24b-7c52e363cdcc",
   "metadata": {},
   "outputs": [],
   "source": [
    "# Author: Brent Artuch\n",
    "# Date: 2024-10-25\n",
    "\n",
    "import sympy as sp\n",
    "import numpy as np\n",
    "import spb\n",
    "import matplotlib.pyplot as plt\n",
    "\n",
    "sp.init_printing()"
   ]
  },
  {
   "cell_type": "markdown",
   "id": "0225bca4-294d-4be0-b021-2f5a25b10f0c",
   "metadata": {},
   "source": [
    "1.3 - Consider the Gaussian distribution:\n",
    "\\begin{align*}\n",
    "\\rho(x)=Ae^{-\\lambda(x-a)^2}\n",
    "\\end{align*}\n",
    "where $A$, $a$, and $\\lambda$ are positive real constants."
   ]
  },
  {
   "cell_type": "markdown",
   "id": "8acb6734-bd15-41da-9cb4-29342f931ea5",
   "metadata": {},
   "source": [
    "a) Determine the value of $A$:<br>\n",
    "Answer - To solve for $A$, we need to use the probability density equation:\n",
    "\\begin{align*}\n",
    "\\int_{-\\infty}^{\\infty}\\rho(x)dx=1\n",
    "\\end{align*}\n",
    "So, we plug in the value of $\\rho(x)$ and solve for $A$:\n",
    "\\begin{align*}\n",
    "\\int_{-\\infty}^{\\infty}Ae^{-\\lambda(x-a)^2}dx=1\n",
    "\\end{align*}\n",
    "Recall that the definite integral of an arbitrary gaussian function is:\n",
    "\\begin{align*}\n",
    "\\int_{-\\infty}^{\\infty}e^{-a(x+b)^2}dx=\\sqrt{\\frac{\\pi}{a}}\n",
    "\\end{align*}"
   ]
  },
  {
   "cell_type": "markdown",
   "id": "1ce2eafa-d39f-4df3-b361-12b8627ef136",
   "metadata": {},
   "source": [
    "So\n",
    "\\begin{align*}\n",
    "1&=\\int_{-\\infty}^{\\infty}Ae^{-\\lambda(x-a)^2}dx=A\\int_{-\\infty}^{\\infty}e^{-\\lambda(x-a)^2}dx=A\\sqrt{\\frac{\\pi}{\\lambda}}\\\\\n",
    "A&=\\sqrt{\\frac{\\lambda}{\\pi}}\n",
    "\\end{align*}"
   ]
  },
  {
   "cell_type": "markdown",
   "id": "a3e0684f-cd76-4acd-bc76-617a0f9e3cd9",
   "metadata": {},
   "source": [
    "b) Find $\\langle x \\rangle$, $\\langle x^2 \\rangle$, and $\\sigma$.<br>\n",
    "Answer:\n",
    "\\begin{align*}\n",
    "\\langle x \\rangle=\\int_{-\\infty}^{\\infty}x\\rho(x)dx=\\int_{-\\infty}^{\\infty}xAe^{-\\lambda(x-a)^2}dx\n",
    "\\end{align*}\n",
    "For this problem, we will use the substitution $u=x-a$ and $dx=du$:\n",
    "\\begin{align*}\n",
    "\\langle x \\rangle=\\int_{-\\infty}^{\\infty}(u+a)Ae^{-\\lambda u^2}du=A\\int_{-\\infty}^{\\infty}ue^{\\lambda u^2}du+a\\int_{-\\infty}^{\\infty}Ae^{\\lambda u^2}du\n",
    "\\end{align*}"
   ]
  },
  {
   "cell_type": "markdown",
   "id": "4a71e70b-4cd3-4982-a424-2cb78e350728",
   "metadata": {},
   "source": [
    "By definition:\n",
    "\\begin{align*}\n",
    "\\int_{-\\infty}^{\\infty}Ae^{\\lambda u^2}du=\\int_{-\\infty}^{\\infty}Ae^{\\lambda (x-a)^2}dx=\\rho(x)=1\n",
    "\\end{align*}"
   ]
  },
  {
   "cell_type": "markdown",
   "id": "86c3af1d-d5f0-40f7-b524-3dcc1d681b66",
   "metadata": {},
   "source": [
    "So:\n",
    "\\begin{align*}\n",
    "\\langle x \\rangle=A\\int_{-\\infty}^{\\infty}ue^{\\lambda u^2}du+a(1)=A\\int_{-\\infty}^{\\infty}ue^{\\lambda u^2}du+a\n",
    "\\end{align*}"
   ]
  },
  {
   "cell_type": "markdown",
   "id": "14017d80-dbc5-44e1-8ca9-f01c782af258",
   "metadata": {},
   "source": [
    "Recall the definite integral of an odd function from $-a$ to $a$ is:\n",
    "\\begin{align*}\n",
    "\\int_{-a}^{a}f(x)dx=0\n",
    "\\end{align*}\n",
    "where $f(-x)=-f(x)$."
   ]
  },
  {
   "cell_type": "markdown",
   "id": "94466559-b377-4553-9a2e-afa4197fc902",
   "metadata": {},
   "source": [
    "When testing the remaining integral function of our equation, we observe that:\n",
    "\\begin{align*}\n",
    "f(u)&=ue^{\\lambda u^2}\\\\\n",
    "f(-u)&=-ue^{\\lambda -u^2}=-f(u)\n",
    "\\end{align*}"
   ]
  },
  {
   "cell_type": "markdown",
   "id": "55718eb1-cf92-456f-a9ad-dae339400983",
   "metadata": {},
   "source": [
    "Which tells us that:\n",
    "\\begin{align*}\n",
    "\\int_{-\\infty}^{\\infty}ue^{\\lambda u^2}du=0\n",
    "\\end{align*}"
   ]
  },
  {
   "cell_type": "markdown",
   "id": "a753bfe3-05d0-4c86-a75f-1bbf6714676a",
   "metadata": {},
   "source": [
    "Therefore:\n",
    "\\begin{align*}\n",
    "\\langle x \\rangle=A\\int_{-\\infty}^{\\infty}ue^{\\lambda u^2}du+a=A(0)+a=a\n",
    "\\end{align*}"
   ]
  },
  {
   "cell_type": "markdown",
   "id": "7bb1baf7-7ee2-47f4-b362-b111d61cb0be",
   "metadata": {},
   "source": [
    "\\begin{align*}\n",
    "\\langle x^2 \\rangle=\\int_{-\\infty}^{\\infty}x^2\\rho(x)dx=\\int_{-\\infty}^{\\infty}x^2Ae^{-\\lambda(x-a)^2}dx\n",
    "\\end{align*}"
   ]
  },
  {
   "cell_type": "markdown",
   "id": "5c100e6f-d777-406b-904d-5728a996c0e9",
   "metadata": {},
   "source": [
    "As for the previous function, we will using the substitutions $u=x-a$ and $dx=du$:\n",
    "\\begin{align*}\n",
    "\\langle x^2 \\rangle=\\int_{-\\infty}^{\\infty}(u+a)^2Ae^{-\\lambda u^2}du=\\int_{-\\infty}^{\\infty}(u^2+2au+u^2)Ae^{-\\lambda u^2}du=A\\left[\\int_{-\\infty}^{\\infty}u^2e^{-\\lambda u^2}du+2a\\int_{-\\infty}^{\\infty}ue^{-\\lambda u^2}du+a^2\\int_{-\\infty}^{\\infty}e^{-\\lambda u^2}du\\right]\n",
    "\\end{align*}"
   ]
  },
  {
   "cell_type": "markdown",
   "id": "c1295285-bc91-4f2c-b127-49a652a56a00",
   "metadata": {},
   "source": [
    "We know from the preivous solution for $\\langle x \\rangle$ that the second an third integrals will be $0$ and $1$ respectively after multiplying through with $A$, so:\n",
    "\\begin{align*}\n",
    "\\langle x^2 \\rangle=A\\int_{-\\infty}^{\\infty}u^2e^{-\\lambda u^2}du+A(2a)(0)+a^2(1)=A\\int_{-\\infty}^{\\infty}u^2e^{-\\lambda u^2}du+a^2\n",
    "\\end{align*}"
   ]
  },
  {
   "cell_type": "markdown",
   "id": "364e60d0-49c7-4fc9-bf2b-1e6b805d4084",
   "metadata": {},
   "source": [
    "To evaluate the final integral we need to use the definition of the Gaussian integral from before: \n",
    "\\begin{align*}\n",
    "\\int_{-\\infty}^{\\infty}e^{-\\lambda(x-a)^2}dx=\\sqrt{\\frac{\\pi}{\\lambda}}\n",
    "\\end{align*}"
   ]
  },
  {
   "cell_type": "markdown",
   "id": "ceb279ee-48cd-436e-88d1-a168de6e01a6",
   "metadata": {},
   "source": [
    "Now we need to differentiate both sides of this expression with respect to $\\lambda$:\n",
    "\\begin{align*}\n",
    "&\\frac{d}{d\\lambda}\\left(\\int_{-\\infty}^{\\infty}e^{-\\lambda(x-a)^2}dx=\\sqrt{\\frac{\\pi}{\\lambda}}\\right)\\\\\n",
    "&\\int_{-\\infty}^{\\infty}u^2e^{-\\lambda u^2}du=\\sqrt{\\pi}\\frac{1}{2}\\lambda^{3/2}=\\frac{1}{2\\lambda}\\sqrt{\\frac{\\pi}{\\lambda}}\n",
    "\\end{align*}"
   ]
  },
  {
   "cell_type": "markdown",
   "id": "54621305-4af1-415d-b7b5-e23c19ed726a",
   "metadata": {},
   "source": [
    "Lastly, we can plug this value into our equation and simplify:\n",
    "\\begin{align*}\n",
    "\\langle x^2 \\rangle=A\\frac{1}{2\\lambda}\\sqrt{\\frac{\\pi}{\\lambda}}+a^2=\\sqrt{\\frac{\\lambda}{\\pi}}\\frac{1}{2\\lambda}\\sqrt{\\frac{\\pi}{\\lambda}}+a^2=\\frac{1}{2\\lambda}+a^2\n",
    "\\end{align*}"
   ]
  },
  {
   "cell_type": "markdown",
   "id": "5c6b7bc7-61a7-461a-938c-16e4bfd90fca",
   "metadata": {},
   "source": [
    "Then the variance is:\n",
    "\\begin{align*}\n",
    "\\sigma^2 = \\langle x^2\\rangle-\\langle x\\rangle^2=\\frac{1}{2\\lambda}+a^2-a^2=\\frac{1}{2\\lambda}\n",
    "\\end{align*}\n",
    "and the standard deviation is:\n",
    "\\begin{align*}\n",
    "\\sigma =\\sqrt{\\frac{1}{2\\lambda}}=\\frac{1}{\\sqrt{2\\lambda}}\n",
    "\\end{align*}"
   ]
  },
  {
   "cell_type": "code",
   "execution_count": 2,
   "id": "47d1fa27-b07d-45c0-a41c-a3c58ce93231",
   "metadata": {},
   "outputs": [
    {
     "data": {
      "image/png": "[encoded data removed]",
      "text/plain": [
       "<Figure size 640x480 with 1 Axes>"
      ]
     },
     "metadata": {},
     "output_type": "display_data"
    }
   ],
   "source": [
    "# Generate x values\n",
    "x = np.linspace(-2, 3, 10000)\n",
    "\n",
    "# Calculate y values for the exponential function\n",
    "y = np.exp(-1*(x-0.75)**2)\n",
    "\n",
    "# Create the plot\n",
    "plt.plot(x, y)\n",
    "plt.xlabel('x')\n",
    "plt.annotate(r\"$a$\", xy=(0.72, 0.005))\n",
    "plt.annotate(r\"$A$\", xy=(0.5, 1))\n",
    "plt.title(r'$\\rho(x)$')\n",
    "plt.grid(False)\n",
    "plt.xticks([0,0.75])\n",
    "plt.yticks([])\n",
    "plt.show()"
   ]
  },
  {
   "cell_type": "markdown",
   "id": "fc5832d4-3174-4bcc-8e24-aa2681def153",
   "metadata": {},
   "source": [
    "1.4 - The work for this problem can be found in the Chapter 1 lecture file:<br>\n",
    "<a href=\"https://github.com/Artuk009/QuantumMechanics/blob/main/IntroductionToQuantumMechanics/Chapter_01.ipynb\">https://github.com/Artuk009/QuantumMechanics/blob/main/IntroductionToQuantumMechanics/Chapter_01.ipynb</a>"
   ]
  },
  {
   "cell_type": "markdown",
   "id": "f68bf16b-d03f-41e9-81ec-5c1ea199f0b5",
   "metadata": {},
   "source": [
    "1.5 - Consider the wave function:\n",
    "\\begin{align*}\n",
    "\\Psi(x,t)=Ae^{-\\lambda|x|}e^{-i\\omega t}\n",
    "\\end{align*}\n",
    "where $A$, $\\lambda$, and $\\omega$ are positive real constants."
   ]
  },
  {
   "cell_type": "markdown",
   "id": "f4123a3b-8863-4a7c-8efe-08b7a6b39aa2",
   "metadata": {},
   "source": [
    "a) Normalize $\\Psi$.<br>\n",
    "Answer - For a wave function to be normalized:\n",
    "\\begin{align*}\n",
    "\\int_{-\\infty}^{+\\infty}|\\Psi(x,t)|^2 \\ dx=\\int_{-\\infty}^{+\\infty}\\Psi^*\\Psi \\ dx=1\n",
    "\\end{align*}"
   ]
  },
  {
   "cell_type": "markdown",
   "id": "8dd66a33-bf06-43d3-a0f6-7581a8ba8f9d",
   "metadata": {},
   "source": [
    "After pluging in the wave function we have:\n",
    "\\begin{align*}\n",
    "1&=\\int_{-\\infty}^{+\\infty}|Ae^{-\\lambda|x|}e^{-i\\omega t}|^2 \\ dx=\\int_{-\\infty}^{+\\infty}(Ae^{-\\lambda|x|}e^{-i\\omega t})^*(Ae^{-\\lambda|x|}e^{-i\\omega t})\\ dx\\\\\n",
    "&=\\int_{-\\infty}^{+\\infty}(Ae^{-\\lambda|x|}e^{i\\omega t})(Ae^{-\\lambda|x|}e^{-i\\omega t})\\ dx=\\int_{-\\infty}^{+\\infty}|A|^2e^{-2\\lambda|x|}\\ dx=|A|^2\\int_{-\\infty}^{+\\infty}e^{-2\\lambda|x|}\\ dx\n",
    "\\end{align*}"
   ]
  },
  {
   "cell_type": "markdown",
   "id": "3190ed37-af3b-4e25-ba8f-bd3776642caa",
   "metadata": {},
   "source": [
    "Recall that the definite integral of an even funciton $f(x)$ from $-a$ to $a$ is:\n",
    "\\begin{align*}\n",
    "\\int_{-a}^{a}f(x) \\ dx=2\\int_{0}^{a}f(x)\\ dx\n",
    "\\end{align*}"
   ]
  },
  {
   "cell_type": "markdown",
   "id": "89e73af2-9c0c-4105-8549-fa7531b16cca",
   "metadata": {},
   "source": [
    "Since this exponential is even:\n",
    "\\begin{align*}\n",
    "1&=2|A|^2\\int_{0}^{+\\infty}e^{-2\\lambda x}\\ dx\n",
    "\\end{align*}\n",
    "Notice we dropped the absolute value operation on $x$ because know we are only dealing with the interval where $x\\ge 0$."
   ]
  },
  {
   "cell_type": "markdown",
   "id": "16b0e7fc-b091-4413-bdd8-37aaa2066fe7",
   "metadata": {},
   "source": [
    "Recall that the definite integral from $a$ to $b$ of an exponential function is:\n",
    "\\begin{align*}\n",
    "\\int_{a}^{b}e^{ax}\\ dx=\\left(\\frac{e^{ax}}{a}\\right)\\Big|_a^b\n",
    "\\end{align*}"
   ]
  },
  {
   "cell_type": "markdown",
   "id": "04a0cef5-575f-47e6-8110-e329affafd42",
   "metadata": {},
   "source": [
    "So our equation takes the form:\n",
    "\\begin{align*}\n",
    "1&=2|A|^2\\left(\\frac{e^{-2\\lambda x}}{-2\\lambda}\\right)\\Big|_{0}^{\\infty}=2|A|^2\\left(\\frac{e^{-2\\lambda (\\infty)}}{-2\\lambda}-\\frac{e^{-2\\lambda (0)}}{-2\\lambda}\\right)=2|A|^2\\left(0-\\frac{1}{-2\\lambda}\\right)=\\frac{|A|^2}{\\lambda}\n",
    "\\end{align*}\n",
    "And\n",
    "\\begin{align*}\n",
    "A=\\sqrt{\\lambda}\n",
    "\\end{align*}"
   ]
  },
  {
   "cell_type": "markdown",
   "id": "5440f4b9-ad7e-49d7-a3b3-f34cd2958c8a",
   "metadata": {},
   "source": [
    "b) Determine the expectation values of $x$ and $x^2$.<br>\n",
    "Answer - To find the expectation value of $x$ we use:\n",
    "\\begin{align*}\n",
    "\\langle x \\rangle=\\int_{-\\infty}^{+\\infty}x|\\Psi(x,t)|^2 \\ dx=\\int_{-\\infty}^{+\\infty}x\\Psi^*\\Psi \\ dx\n",
    "\\end{align*}"
   ]
  },
  {
   "cell_type": "markdown",
   "id": "f9854d34-84fc-4e4a-8d29-cc86564f2004",
   "metadata": {},
   "source": [
    "After plugging in the result from part a:\n",
    "\\begin{align*}\n",
    "\\langle x \\rangle=|A|^2\\int_{-\\infty}^{+\\infty}xe^{-2\\lambda|x|}\\ dx\n",
    "\\end{align*}"
   ]
  },
  {
   "cell_type": "markdown",
   "id": "80957a10-6cce-479b-a27f-d6d7fdeac968",
   "metadata": {},
   "source": [
    "Recall that if we take the definite integral of an odd function $f(x)$ from $-a$ to $a$ we get:\n",
    "\\begin{align*}\n",
    "\\int_{-a}^{a}f(x) \\ dx=0\n",
    "\\end{align*}"
   ]
  },
  {
   "cell_type": "markdown",
   "id": "dcd938d8-71fc-443d-bbfc-775bd0b2ca4d",
   "metadata": {},
   "source": [
    "Since the exponential function is odd:\n",
    "\\begin{align*}\n",
    "\\langle x \\rangle=|A|^2(0)=0\n",
    "\\end{align*}"
   ]
  },
  {
   "cell_type": "markdown",
   "id": "c4585eee-82a7-4409-a1b0-143b526fe32a",
   "metadata": {},
   "source": [
    "The expectation value of $x^2$ is:\n",
    "\\begin{align*}\n",
    "\\langle x^2 \\rangle=\\int_{-\\infty}^{+\\infty}x^2|\\Psi(x,t)|^2 \\ dx=\\int_{-\\infty}^{+\\infty}x^2\\Psi^*\\Psi \\ dx\n",
    "\\end{align*}"
   ]
  },
  {
   "cell_type": "markdown",
   "id": "2afac898-2c0c-4094-a586-c3113685e976",
   "metadata": {},
   "source": [
    "After plugging in the result from part a:\n",
    "\\begin{align*}\n",
    "\\langle x^2 \\rangle=|A|^2\\int_{-\\infty}^{+\\infty}x^2e^{-2\\lambda|x|}\\ dx\n",
    "\\end{align*}"
   ]
  },
  {
   "cell_type": "markdown",
   "id": "94857fd0-20b8-41ab-96ed-296b4498d733",
   "metadata": {},
   "source": [
    "This is an even function, so as before:\n",
    "\\begin{align*}\n",
    "\\langle x^2 \\rangle&=2|A|^2\\int_{0}^{+\\infty}x^2e^{-2\\lambda x}\\ dx\n",
    "\\end{align*}\n",
    "and the absolute value operation is dropped."
   ]
  },
  {
   "cell_type": "markdown",
   "id": "0a65029e-568b-4b93-b5ff-060ed866df32",
   "metadata": {},
   "source": [
    "Recall that the procedure for integration by parts of a definite integral is denoted as follows:\n",
    "\\begin{align*}\n",
    "\\int_{a}^{b}u\\ dv=uv\\Big|_a^b-\\int_{a}^{b}v\\ du \n",
    "\\end{align*}"
   ]
  },
  {
   "cell_type": "markdown",
   "id": "bf7fd64e-73c7-43d8-98c6-74ccf941d63e",
   "metadata": {},
   "source": [
    "So:\n",
    "\\begin{align*}\n",
    "\\langle x^2 \\rangle&=2|A|^2\\left[x^2\\left(\\frac{e^{-2\\lambda x}}{-2\\lambda}\\right)\\Big|_{0}^{\\infty}-\\int_{0}^{+\\infty}2x\\left(\\frac{e^{-2\\lambda x}}{-2\\lambda}\\right)\\ dx\\right]\\\\\n",
    "&=2|A|^2\\left[\\left((\\infty)^2\\frac{e^{-2\\lambda (\\infty)}}{-2\\lambda}-(0)^2\\frac{e^{-2\\lambda (0)}}{-2\\lambda}\\right)-\\int_{0}^{+\\infty}2x\\left(\\frac{e^{-2\\lambda x}}{-2\\lambda}\\right)\\ dx\\right]\\\\\n",
    "&=2|A|^2\\left[\\left((\\infty)^2(0)-0\\right)-\\int_{0}^{+\\infty}2x\\left(\\frac{e^{-2\\lambda x}}{-2\\lambda}\\right)\\ dx\\right]\\\\\n",
    "&=2|A|^2\\left[-\\int_{0}^{+\\infty}2x\\left(\\frac{e^{-2\\lambda x}}{-2\\lambda}\\right)\\ dx\\right]\\\\\n",
    "&=2|A|^2\\left[-\\left(\\frac{2}{-2\\lambda}\\right)\\int_{0}^{+\\infty}xe^{-2\\lambda x}\\ dx\\right]\\\\\n",
    "&=2|A|^2\\left[\\frac{1}{\\lambda}\\int_{0}^{+\\infty}xe^{-2\\lambda x} \\ dx\\right]\\\\\n",
    "\\end{align*}"
   ]
  },
  {
   "cell_type": "markdown",
   "id": "f4836648-2ef1-4a9f-92b2-782dbc1cde03",
   "metadata": {},
   "source": [
    "Now we use integration by parts a second time:\n",
    "\\begin{align*}\n",
    "\\langle x^2 \\rangle\n",
    "&=2|A|^2\\frac{1}{\\lambda}\\left[x\\left(\\frac{e^{-2\\lambda x}}{-2\\lambda}\\right)\\Big|_{0}^{\\infty}-\\int_{0}^{+\\infty}\\frac{e^{-2\\lambda x}}{-2\\lambda}\\ dx\\right]\\\\\n",
    "&=2|A|^2\\frac{1}{\\lambda}\\left[0-\\int_{0}^{+\\infty}\\frac{e^{-2\\lambda x}}{-2\\lambda}\\ dx\\right]\\\\\n",
    "&=2|A|^2\\frac{1}{\\lambda}\\left[\\frac{1}{2\\lambda}\\int_{0}^{+\\infty}e^{-2\\lambda x}\\ dx\\right]\\\\\n",
    "&=2|A|^2\\frac{1}{\\lambda}\\left[\\frac{1}{2\\lambda}\\left(\\frac{e^{-2\\lambda x}}{-2\\lambda}\\right)\\Big|_{0}^{\\infty}\\right]\\\\\n",
    "&=2|A|^2\\frac{1}{\\lambda}\\left[\\frac{1}{2\\lambda}\\left(\\frac{e^{-2\\lambda (\\infty)}}{-2\\lambda}-\\frac{e^{-2\\lambda (0)}}{-2\\lambda}\\right)\\right]\\\\\n",
    "&=2|A|^2\\frac{1}{\\lambda}\\left[\\frac{1}{2\\lambda}\\left(0-\\frac{1}{-2\\lambda}\\right)\\right]\\\\\n",
    "&=2|A|^2\\frac{1}{\\lambda}\\left[\\frac{1}{2\\lambda}\\left(\\frac{1}{2\\lambda}\\right)\\right]\\\\\n",
    "&=2|A|^2\\frac{1}{4\\lambda^3}\\\\\n",
    "\\end{align*}"
   ]
  },
  {
   "cell_type": "markdown",
   "id": "3b542deb-d695-4396-9fab-c8da5b75f1bf",
   "metadata": {},
   "source": [
    "Plug in our value of $A$ from before:\n",
    "\\begin{align*}\n",
    "\\langle x^2 \\rangle\n",
    "&=\\frac{2|A|^2}{4\\lambda^3}=\\frac{2(\\sqrt{\\lambda})^2}{4\\lambda^3}=\\frac{2\\lambda}{4\\lambda^3}=\\frac{1}{2\\lambda^2}\n",
    "\\end{align*}"
   ]
  },
  {
   "cell_type": "markdown",
   "id": "5cb846dc-0ae2-4af3-b980-c1e374b357f8",
   "metadata": {},
   "source": [
    "c) Find the standard deviation of $x$ and then calculate the probability of the particle being found outside of this range.<br>\n",
    "Answer:\n",
    "Then the variance is:\n",
    "\\begin{align*}\n",
    "\\sigma^2 = \\langle x^2\\rangle-\\langle x\\rangle^2=\\frac{1}{2\\lambda^2}-0=\\frac{1}{2\\lambda^2}\n",
    "\\end{align*}\n",
    "and the standard deviation is:\n",
    "\\begin{align*}\n",
    "\\sigma =\\sqrt{\\frac{1}{2\\lambda^2}}=\\frac{1}{\\lambda\\sqrt{2}}\n",
    "\\end{align*}"
   ]
  },
  {
   "cell_type": "markdown",
   "id": "b6f5f8f8-4792-41f1-8b00-7003ab51414e",
   "metadata": {},
   "source": [
    "To calculate the probability of the particle being found outside of this range, we need to plug the standard deviation into the norm square of the wave function:\n",
    "\\begin{align*}\n",
    "|\\Psi(\\pm\\sigma)|^2=|A|^2e^{-2\\lambda|x|}=|\\sqrt{\\lambda}|^2e^{-2\\lambda|\\pm\\sigma|}=\\lambda e^{-2\\lambda\\sigma}=\\lambda e^{-2\\lambda/ \\lambda\\sqrt{2}}=\\lambda e^{-2/ \\sqrt{2}}=\\lambda e^{-\\sqrt{2}}=0.2431\\lambda\n",
    "\\end{align*}"
   ]
  },
  {
   "cell_type": "code",
   "execution_count": 3,
   "id": "8c08dec5-0c8f-42c3-af5e-9280901ed063",
   "metadata": {},
   "outputs": [
    {
     "data": {
      "image/png": "[encoded data removed]",
      "text/plain": [
       "<Figure size 640x480 with 1 Axes>"
      ]
     },
     "metadata": {},
     "output_type": "display_data"
    }
   ],
   "source": [
    "# Generate x values\n",
    "x = np.linspace(-2, 2, 10000)\n",
    "\n",
    "# Calculate y values for the exponential function\n",
    "y = np.exp(-2*abs(x))\n",
    "\n",
    "# Create the plot\n",
    "plt.plot(x, y)\n",
    "plt.xlabel('x')\n",
    "plt.annotate(r'$-\\sigma$', xy=(-1/np.sqrt(2), 0.005))\n",
    "plt.annotate(r\"$+\\sigma$\", xy=(1/np.sqrt(2), 0.005))\n",
    "plt.annotate(r\"$\\lambda$\", xy=(-0.2, 0.95))\n",
    "plt.title(r'$|\\Psi|^2$')\n",
    "plt.grid(False)\n",
    "plt.xticks([-1/np.sqrt(2),0,1/np.sqrt(2)])\n",
    "plt.yticks([])\n",
    "plt.show()"
   ]
  },
  {
   "cell_type": "markdown",
   "id": "38f3bc9e-9ce7-4fd6-975a-5b6544ee9684",
   "metadata": {},
   "source": [
    "1.6 Why can't we perform integration by parts on the following equation:\n",
    "\\begin{align*}\n",
    "\\int x \\frac{\\partial}{\\partial t}|\\Psi|^2\\ dx\n",
    "\\end{align*}"
   ]
  },
  {
   "cell_type": "markdown",
   "id": "13d29259-0776-4819-9dfb-04dee2a1cfa7",
   "metadata": {},
   "source": [
    "Answer: Because differention has to be with respect to the integration variable for integration by parts. In this equation, it is with respect to $t$ instead of $x$."
   ]
  },
  {
   "cell_type": "markdown",
   "id": "74f06643-3e59-46b6-a579-ae5d0086a884",
   "metadata": {},
   "source": [
    "1.7 - Prove that:\n",
    "\\begin{align*}\n",
    "\\frac{d\\langle p\\rangle}{dt}=\\left\\langle -\\frac{\\partial V}{\\partial x} \\right\\rangle\n",
    "\\end{align*}"
   ]
  },
  {
   "cell_type": "markdown",
   "id": "278383b3-4231-4227-9903-7ca98e0be0a7",
   "metadata": {},
   "source": [
    "Answer - This is the proof for Ehrenfest's Theorem regarding the change in the expectation value of momentum $p$ with respect time $t$. First, we need to plug in the expectation value of $p$:\n",
    "\\begin{align*}\n",
    "\\frac{d\\langle p\\rangle}{dt}&=\\frac{d}{dt}\\langle p\\rangle=\\frac{d}{dt}\\left(-i\\hbar\\int_{-\\infty}^{+\\infty}\\Psi^*\\frac{\\partial \\Psi}{\\partial x}\\ dx\\right)\n",
    "\\end{align*}"
   ]
  },
  {
   "cell_type": "markdown",
   "id": "84b56c34-9049-45f7-8de5-b783b5acac93",
   "metadata": {},
   "source": [
    "Next, we can move the derivative with respect to $t$ inside the integrand. The total derivative becomes a partial derivative because the integration is with respect to $x$:\n",
    "\\begin{align*}\n",
    "=-i\\hbar\\int_{-\\infty}^{+\\infty}\\frac{\\partial}{\\partial t}\\left(\\Psi^*\\frac{\\partial \\Psi}{\\partial x}\\right)\\ dx\n",
    "\\end{align*}"
   ]
  },
  {
   "cell_type": "markdown",
   "id": "cafe9c48-b398-47b7-9582-4ad8d3e835b2",
   "metadata": {},
   "source": [
    "Now we will focus on simplifying the integrand before pluging it back into the equation. Recall that the product rule of differentiation is:\n",
    "\\begin{align*}\n",
    "\\frac{d}{dx}(fg)=f\\frac{dg}{dx}+g\\frac{df}{dx}\n",
    "\\end{align*}\n",
    "So:\n",
    "\\begin{align*}\n",
    "\\frac{\\partial}{\\partial t}\\left(\\Psi^*\\frac{\\partial \\Psi}{\\partial x}\\right)&=\\frac{\\partial \\Psi^*}{\\partial t}\\frac{\\partial \\Psi}{\\partial x}+\\Psi^*\\frac{\\partial}{\\partial t}\\left(\\frac{\\partial \\Psi}{\\partial x}\\right)\n",
    "\\end{align*}"
   ]
  },
  {
   "cell_type": "markdown",
   "id": "112189eb-3b8f-4768-8077-5db16ae85af5",
   "metadata": {},
   "source": [
    "By the property of mixed derivatives:\n",
    "\\begin{align*}\n",
    "\\frac{\\partial^2f}{\\partial x\\partial y}=\\frac{\\partial^2f}{\\partial y\\partial x}\n",
    "\\end{align*}"
   ]
  },
  {
   "cell_type": "markdown",
   "id": "7c8b71d9-64c8-4f7e-9a06-9a017c41ab89",
   "metadata": {},
   "source": [
    "With this we can alter the equation so that we can apply Schrödinger's equation:\n",
    "\\begin{align*}\n",
    "\\frac{\\partial \\Psi^*}{\\partial t}\\frac{\\partial \\Psi}{\\partial x}+\\Psi^*\\frac{\\partial}{\\partial t}\\left(\\frac{\\partial \\Psi}{\\partial x}\\right)=\\frac{\\partial \\Psi^*}{\\partial t}\\frac{\\partial \\Psi}{\\partial x}+\\Psi^*\\frac{\\partial}{\\partial x}\\left(\\frac{\\partial \\Psi}{\\partial t}\\right)\n",
    "\\end{align*}"
   ]
  },
  {
   "cell_type": "markdown",
   "id": "4b477ea2-4aa7-4074-ab54-a67a509c82ee",
   "metadata": {},
   "source": [
    "Recall that by Shrödinger's equation:\n",
    "\\begin{align*}\n",
    "\\frac{\\partial \\Psi}{\\partial t}&=\\frac{i\\hbar}{2m}\\frac{\\partial^2\\Psi}{\\partial x^2}-\\frac{i}{\\hbar}V\\Psi\\\\\n",
    "\\frac{\\partial \\Psi^*}{\\partial t}&=-\\frac{i\\hbar}{2m}\\frac{\\partial^2\\Psi^*}{\\partial x^2}+\\frac{i}{\\hbar}V\\Psi^*\n",
    "\\end{align*}"
   ]
  },
  {
   "cell_type": "markdown",
   "id": "b9f89e6d-9300-4716-b8f6-f471ddf7b2b3",
   "metadata": {},
   "source": [
    "We can now plug these values into the equation:\n",
    "\\begin{align*}\n",
    "\\left(-\\frac{i\\hbar}{2m}\\frac{\\partial^2\\Psi^*}{\\partial x^2}+\\frac{i}{\\hbar}V\\Psi^*\\right)\\frac{\\partial \\Psi}{\\partial x}+\\Psi^*\\frac{\\partial}{\\partial x}\\left(\\frac{i\\hbar}{2m}\\frac{\\partial^2\\Psi}{\\partial x^2}-\\frac{i}{\\hbar}V\\Psi\\right)\n",
    "\\end{align*}"
   ]
  },
  {
   "cell_type": "markdown",
   "id": "da1666fe-1a0c-4e37-a915-ddab14dff590",
   "metadata": {},
   "source": [
    "The next step is to multiply out the terms and then factor the elements containing $i$ and $\\hbar$:\n",
    "\\begin{align*}\n",
    "-\\frac{i\\hbar}{2m}\\frac{\\partial^2\\Psi^*}{\\partial x^2}\\frac{\\partial\\Psi}{\\partial x}+\\frac{i}{\\hbar}V\\Psi^*\\frac{\\partial\\Psi}{\\partial x}+\\frac{i\\hbar}{2m}\\Psi^*\\frac{\\partial^3\\Psi}{\\partial x^3}-\\frac{i}{\\hbar}\\Psi^*\\frac{\\partial}{\\partial x}(V\\Psi)\n",
    "\\end{align*}"
   ]
  },
  {
   "cell_type": "markdown",
   "id": "047045b2-a03b-4536-acd3-b30094b749e9",
   "metadata": {},
   "source": [
    "\\begin{align*}\n",
    "\\frac{i\\hbar}{2m}\\left(\\Psi^*\\frac{\\partial^3\\Psi}{\\partial x^3}-\\frac{\\partial^2\\Psi^*}{\\partial x^2}\\frac{\\partial \\Psi}{\\partial x}\\right)+\\frac{i}{\\hbar}\\left(V\\Psi^*\\frac{\\partial\\Psi}{\\partial x}-\\Psi^*\\frac{\\partial}{\\partial x}(V\\Psi)\\right)\n",
    "\\end{align*}"
   ]
  },
  {
   "cell_type": "markdown",
   "id": "5e1dc05a-67e1-4e33-a57b-d10dd06d5dcf",
   "metadata": {},
   "source": [
    "Now let's focus on the first term in parentheses. We can use integration by parts to zero out this term:\n",
    "\\begin{align*}\n",
    "\\int_{-\\infty}^{+\\infty}\\Psi^*\\frac{\\partial^3\\Psi}{\\partial x^3}dx&=\\Psi^*\\frac{\\partial^2\\Psi}{\\partial x^2}\\Big|_{-\\infty}^{+\\infty}-\\int_{-\\infty}^{+\\infty}\\frac{\\partial^2\\Psi}{\\partial x^2}\\frac{\\partial\\Psi^*}{\\partial x}\\ dx=0-\\frac{\\partial^2\\Psi}{\\partial x^2}\\frac{\\partial\\Psi^*}{\\partial x}\n",
    "\\end{align*}"
   ]
  },
  {
   "cell_type": "markdown",
   "id": "2c6f3e7f-c55e-4f2e-a5d0-1fe0140958e2",
   "metadata": {},
   "source": [
    "Use integration by parts a second time:\n",
    "\\begin{align*}\n",
    "-\\int_{-\\infty}^{+\\infty}\\frac{\\partial^2\\Psi}{\\partial x^2}\\frac{\\partial\\Psi^*}{\\partial x}\\ dx=\\frac{\\partial\\Psi^*}{\\partial x}\\frac{\\partial\\Psi}{\\partial x}\\Big|_{-\\infty}^{+\\infty}-\\int_{-\\infty}^{+\\infty}\\frac{\\partial^2\\Psi}{\\partial x^2}\\frac{\\partial\\Psi}{\\partial x}\\ dx=-\\left(0-\\frac{\\partial^2\\Psi}{\\partial x^2}\\frac{\\partial\\Psi}{\\partial x}\\right)\n",
    "\\end{align*}"
   ]
  },
  {
   "cell_type": "markdown",
   "id": "076330a3-4e47-4cec-b9da-4ba675f0c56f",
   "metadata": {},
   "source": [
    "And when we plug this result back into the equation, the terms in the first set of parentheses cancel:\n",
    "\\begin{align*}\n",
    "\\frac{i\\hbar}{2m}\\left(\\frac{\\partial^2\\Psi^*}{\\partial x^2}\\frac{\\partial \\Psi}{\\partial x}-\\frac{\\partial^2\\Psi^*}{\\partial x^2}\\frac{\\partial \\Psi}{\\partial x}\\right)+\\frac{i}{\\hbar}\\left(V\\Psi^*\\frac{\\partial\\Psi}{\\partial x}-\\Psi^*\\frac{\\partial}{\\partial x}(V\\Psi)\\right)\n",
    "\\end{align*}"
   ]
  },
  {
   "cell_type": "markdown",
   "id": "29238062-caf1-4230-8d9a-0a0ef14b78ee",
   "metadata": {},
   "source": [
    "Which leaves us with:\n",
    "\\begin{align*}\n",
    "\\frac{i\\hbar}{2m}(0)+\\frac{i}{\\hbar}\\left(V\\Psi^*\\frac{\\partial\\Psi}{\\partial x}-\\Psi^*\\frac{\\partial}{\\partial x}(V\\Psi)\\right)=\\frac{i}{\\hbar}\\left(V\\Psi^*\\frac{\\partial\\Psi}{\\partial x}-\\Psi^*\\frac{\\partial}{\\partial x}(V\\Psi)\\right)\n",
    "\\end{align*}"
   ]
  },
  {
   "cell_type": "markdown",
   "id": "ad28ce1f-a091-4983-8c8a-41166349ed41",
   "metadata": {},
   "source": [
    "We can now use the product rule again to simplify our equation further:\n",
    "\\begin{align*}\n",
    "\\frac{\\partial}{\\partial x}(V\\Psi)&=V\\frac{\\partial\\Psi}{\\partial x}+\\Psi\\frac{\\partial V}{\\partial x}\n",
    "\\end{align*}"
   ]
  },
  {
   "cell_type": "markdown",
   "id": "380fae01-a6e6-4b9a-aa4c-53597d94b340",
   "metadata": {},
   "source": [
    "Plugging this result back into the equation, we get:\n",
    "\\begin{align*}\n",
    "\\frac{i}{\\hbar}\\left(V\\Psi^*\\frac{\\partial\\Psi}{\\partial x}-\\Psi^*V\\frac{\\partial\\Psi}{\\partial x}-\\Psi^*\\Psi\\frac{\\partial V}{\\partial x}\\right)=\\frac{i}{\\hbar}\\left(-\\Psi^*\\Psi\\frac{\\partial V}{\\partial x}\\right)=-\\frac{i}{\\hbar}|\\Psi|^2\\frac{\\partial V}{\\partial x}\n",
    "\\end{align*}"
   ]
  },
  {
   "cell_type": "markdown",
   "id": "bda2c4f5-7693-4657-9e9a-9bf74dff5d5b",
   "metadata": {},
   "source": [
    "Now that we have a more manageable integrand, we can plug it back into our original equation:\n",
    "\\begin{align*}\n",
    "\\frac{d\\langle p\\rangle}{dt}=-i\\hbar\\int_{-\\infty}^{+\\infty}-\\frac{i}{\\hbar}|\\Psi|^2\\frac{\\partial V}{\\partial x}\\ dx=-\\frac{(i^2)\\hbar}{\\hbar}\\int_{-\\infty}^{+\\infty}-|\\Psi|^2\\frac{\\partial V}{\\partial x}\\ dx=\\int_{-\\infty}^{+\\infty}-|\\Psi|^2\\frac{\\partial V}{\\partial x}\\ dx\n",
    "\\end{align*}"
   ]
  },
  {
   "cell_type": "markdown",
   "id": "7fc4037a-e222-4d6b-93ea-419455518109",
   "metadata": {},
   "source": [
    "Recall that the expectation value of a function $f(x)$ is defined as:\n",
    "\\begin{align*}\n",
    "\\langle f(x)\\rangle=\\int_{-\\infty}^{+\\infty}f(x)|\\Psi|^2\\ dx\n",
    "\\end{align*}"
   ]
  },
  {
   "cell_type": "markdown",
   "id": "07720616-4d3f-41f6-a97f-649d3c14a0cb",
   "metadata": {},
   "source": [
    "Therefore ：\n",
    "\\begin{align*}\n",
    "\\int_{-\\infty}^{+\\infty}-|\\Psi|^2\\frac{\\partial V}{\\partial x}\\ dx=\\left\\langle -\\frac{\\partial V}{\\partial x} \\right\\rangle_\\square\n",
    "\\end{align*}"
   ]
  },
  {
   "cell_type": "markdown",
   "id": "a4f713dd-f467-47e0-82ce-95d3c6f1a503",
   "metadata": {},
   "source": [
    "1.8 - If you add a constant $V_0$ to the potential energy, the wave function picks up a phase factor $e^{-iV_0t/\\hbar}$. What effect does this have on the expectation value of a dynamical variable?<br>\n",
    "Answer - This has no effect on the expectation value of the dynamical variable since the phase factor cancels out."
   ]
  },
  {
   "cell_type": "markdown",
   "id": "6a5d39f9-e767-4d5a-9c91-f88d0293427b",
   "metadata": {},
   "source": [
    "1.9 - A particle of mass $m$ has the wave function:\n",
    "\\begin{align*}\n",
    "\\Psi(x,t)=Ae^{-a[(mx^2/\\hbar)+it]}\n",
    "\\end{align*}\n",
    "where $A$ and $a$ are positive real constants."
   ]
  },
  {
   "cell_type": "markdown",
   "id": "82041de7-1ba3-4fae-94cb-b166912bdc54",
   "metadata": {},
   "source": [
    "a) Find $A$.<br>\n",
    "Answer -  For a wave function to be normalized:\n",
    "\\begin{align*}\n",
    "\\int_{-\\infty}^{+\\infty}|\\Psi(x,t)|^2 \\ dx=\\int_{-\\infty}^{+\\infty}\\Psi^*\\Psi \\ dx=1\n",
    "\\end{align*}"
   ]
  },
  {
   "cell_type": "markdown",
   "id": "51194f72-d28e-4f35-a5f4-4a09696e7a96",
   "metadata": {},
   "source": [
    "First, let's write $\\Psi$ in terms of its real and imaginary components. Recall that a complex number is written in the form:\n",
    "\\begin{align*}\n",
    "a+bi\n",
    "\\end{align*}\n",
    "where $a$ and $b$ are real numbers and $i$ is the imaginary unit."
   ]
  },
  {
   "cell_type": "markdown",
   "id": "7b8372a9-ce5c-4f6e-b8b8-0d1e6c4e380a",
   "metadata": {},
   "source": [
    "Also, by the multiplication of exponents:\n",
    "\\begin{align*}\n",
    "b^n\\times b^m =b^{n+m}\n",
    "\\end{align*}"
   ]
  },
  {
   "cell_type": "markdown",
   "id": "470d8864-6b0e-42c4-8e43-971f5796ce21",
   "metadata": {},
   "source": [
    "So, we can rewrite $\\Psi$ as:\n",
    "\\begin{align*}\n",
    "\\Psi(x,t)= Ae^{-amx^2/\\hbar-ait}=Ae^{-amx^2/\\hbar}e^{-ait}\n",
    "\\end{align*}"
   ]
  },
  {
   "cell_type": "markdown",
   "id": "77a55627-7db2-41ec-beac-6b5c58f2d366",
   "metadata": {},
   "source": [
    "And $\\Psi^*$ is:\n",
    "\\begin{align*}\n",
    "\\Psi(x,t)^*= A^*e^{-amx^2/\\hbar}e^{ait}\n",
    "\\end{align*}"
   ]
  },
  {
   "cell_type": "markdown",
   "id": "155658b6-ef61-4020-89ab-34a782bc275e",
   "metadata": {},
   "source": [
    "and\n",
    "\\begin{align*}\n",
    "1=\\int_{-\\infty}^{+\\infty}\\Psi^*\\Psi \\ dx=\\int_{-\\infty}^{+\\infty}(Ae^{-amx^2/\\hbar}e^{-ait})(A^*e^{-amx^2/\\hbar}e^{ait})dx=\\int_{-\\infty}^{+\\infty}AA^*e^{-2amx^2/\\hbar}dx=|A|^2\\int_{-\\infty}^{+\\infty}e^{-2amx^2/\\hbar}dx\n",
    "\\end{align*}"
   ]
  },
  {
   "cell_type": "markdown",
   "id": "2e4090dd-01f1-45ef-b7df-804655f4913c",
   "metadata": {},
   "source": [
    "Again, recall that the Gaussian integral of an arbitray function:\n",
    "\\begin{align*}\n",
    "\\int_{-\\infty}^{+\\infty}e^{-ax^2}dx=\\sqrt{\\frac{\\pi}{a}}\n",
    "\\end{align*}"
   ]
  },
  {
   "cell_type": "markdown",
   "id": "638f4d52-8a57-49b8-9ea4-f9cff80b1420",
   "metadata": {},
   "source": [
    "Therefore, \n",
    "\\begin{align*}\n",
    "1=|A|^2\\int_{-\\infty}^{+\\infty}e^{-2amx^2/\\hbar}dx=|A|^2\\sqrt{\\frac{\\pi}{2am/\\hbar}}=|A|^2\\sqrt{\\frac{\\pi\\hbar}{2am}}\n",
    "\\end{align*}"
   ]
  },
  {
   "cell_type": "markdown",
   "id": "060b8eff-26bf-4dee-8d5b-a495409aa308",
   "metadata": {},
   "source": [
    "Solving for $A$ we get:\n",
    "\\begin{align*}\n",
    "|A|^2&=\\sqrt{\\frac{2am}{\\pi\\hbar}}\\\\\\\\\n",
    "A&=\\left(\\frac{2am}{\\pi\\hbar}\\right)^{1/4}\n",
    "\\end{align*}"
   ]
  },
  {
   "cell_type": "markdown",
   "id": "16e798d4-dc29-489a-8f3c-ee000e734977",
   "metadata": {},
   "source": [
    "b) For what potential energy function, $V(x)$, is this a solution to the Schrödinger equation?\n",
    "Answer - Reacll that the Shrödinger equation is:\n",
    "\\begin{align*}\n",
    "i\\hbar\\frac{\\partial\\Psi}{\\partial t}=-\\frac{\\hbar^2}{2m}\\frac{\\partial^2\\Psi}{\\partial x^2}+V\\Psi\n",
    "\\end{align*}"
   ]
  },
  {
   "cell_type": "markdown",
   "id": "acacac6c-5403-42e4-8bd5-858c54ded4d3",
   "metadata": {},
   "source": [
    "We need to solve for $V$, so isolate $V\\Psi$:\n",
    "\\begin{align*}\n",
    "V\\Psi=i\\hbar\\frac{\\partial\\Psi}{\\partial t}+\\frac{\\hbar^2}{2m}\\frac{\\partial^2\\Psi}{\\partial x^2}\n",
    "\\end{align*}"
   ]
  },
  {
   "cell_type": "markdown",
   "id": "027c1b5e-8176-43ff-b226-1e77bea1f887",
   "metadata": {},
   "source": [
    "Now that we know what to solve for, we need to determine $\\dfrac{\\partial\\Psi}{\\partial t}$ and $\\dfrac{\\partial^2\\Psi}{\\partial x^2}$ \n",
    "\\begin{align*}\n",
    "\\frac{\\partial^2\\Psi}{\\partial x^2}&=\\frac{\\partial^2}{\\partial x^2}\\left(Ae^{-amx^2/\\hbar}e^{-ait}\\right)=Ae^{-ait}\\frac{d^2}{d x^2}\\left(e^{-amx^2/\\hbar}\\right)\n",
    "\\end{align*}"
   ]
  },
  {
   "cell_type": "markdown",
   "id": "9392fedd-8a10-480e-8604-22e14920599f",
   "metadata": {},
   "source": [
    "Now let's focus on the derivative which is no longer partial because there's only an $x$ term after pulling out the constant terms:\n",
    "\\begin{align*}\n",
    "\\frac{d^2}{d x^2}\\left(e^{-amx^2/\\hbar}\\right)=\\frac{d}{dx}\\left(\\frac{d}{dx}e^{-amx^2/\\hbar}\\right)\n",
    "\\end{align*}"
   ]
  },
  {
   "cell_type": "markdown",
   "id": "3900f305-f407-4d78-ae4e-4484aacb9954",
   "metadata": {},
   "source": [
    "Recall that the the chain rule for derivatives is:\n",
    "\\begin{align*}\n",
    "\\frac{df}{dx}=f^\\prime(g(x))\\cdot g^\\prime(x)=\\frac{df}{dg}\\cdot\\frac{dg}{dx}\n",
    "\\end{align*}"
   ]
  },
  {
   "cell_type": "markdown",
   "id": "f7c2b806-b95d-47fa-836c-5b15bdca242d",
   "metadata": {},
   "source": [
    "After applying the chain rule and factoring we get:\n",
    "\\begin{align*}\n",
    "\\frac{d}{dx}\\left[e^{-amx^2/\\hbar}\\left(-\\frac{2amx}{\\hbar}\\right)\\right]=-\\frac{2am}{\\hbar}\\frac{d}{dx}\\left(xe^{-amx^2/\\hbar}\\right)\n",
    "\\end{align*}"
   ]
  },
  {
   "cell_type": "markdown",
   "id": "d7215b34-fca3-45f1-b089-19bd67c3bbe4",
   "metadata": {},
   "source": [
    "Recall the product rule for derivatives is:\n",
    "\\begin{align*}\n",
    "\\frac{d(fg)}{dx}=f\\frac{dg}{dx}+g\\frac{df}{dx}\n",
    "\\end{align*}"
   ]
  },
  {
   "cell_type": "markdown",
   "id": "65c0ce80-89e2-441b-a65e-8b18ddd7002b",
   "metadata": {},
   "source": [
    "We can than use the product rule and the chain rule to evaluate the second derivative:\n",
    "\\begin{align*}\n",
    "-\\frac{2am}{\\hbar}\\left[x\\left(e^{-amx^2/\\hbar}\\cdot-\\frac{2amx}{\\hbar}\\right)+(1)e^{-amx^2/\\hbar}\\right]=-\\frac{2am}{\\hbar}\\left[x\\left(1\\cdot-\\frac{2amx}{\\hbar}\\right)+1\\right]e^{-amx^2/\\hbar}=\\frac{2am}{\\hbar}\\left(\\frac{2amx^2}{\\hbar}-1\\right)e^{-amx^2/\\hbar}\n",
    "\\end{align*}"
   ]
  },
  {
   "cell_type": "markdown",
   "id": "4ff1822b-4468-455d-b27f-a0498ff67dae",
   "metadata": {},
   "source": [
    "Let's plug this result back into our equation:\n",
    "\\begin{align*}\n",
    "\\frac{\\partial^2\\Psi}{\\partial x^2}&=Ae^{-ait}\\frac{d^2}{d x^2}\\left(e^{-amx^2/\\hbar}\\right)=Ae^{-ait}\\left(\\frac{2am}{\\hbar}\\right)\\left(\\frac{2amx^2}{\\hbar}-1\\right)e^{-amx^2/\\hbar}=Ae^{-amx^2/\\hbar}e^{-ait}\\left(\\frac{2am}{\\hbar}\\right)\\left(\\frac{2amx^2}{\\hbar}-1\\right)\n",
    "\\end{align*}"
   ]
  },
  {
   "cell_type": "markdown",
   "id": "1bbc2004-314b-4a1e-94cc-5490b6c1fd23",
   "metadata": {},
   "source": [
    "We can simplify the first term to just $\\Psi$, becuase this was the original wave function that we were given. So we have:\n",
    "\\begin{align*}\n",
    "\\frac{\\partial^2\\Psi}{\\partial x^2}=\\Psi\\left(\\frac{2am}{\\hbar}\\right)\\left(\\frac{2amx^2}{\\hbar}-1\\right)\n",
    "\\end{align*}"
   ]
  },
  {
   "cell_type": "markdown",
   "id": "cbb55920-fa42-45cd-b219-e084e0414a5d",
   "metadata": {},
   "source": [
    "Now, we just need to solve for $\\dfrac{\\partial\\Psi}{\\partial t}$. Plugging in the wave fucntion $\\Psi$ we get:\n",
    "\\begin{align*}\n",
    "\\frac{\\partial\\Psi}{\\partial t}=\\frac{\\partial}{\\partial t}\\left(Ae^{-amx^2/\\hbar}e^{-ait}\\right)=Ae^{-amx^2/\\hbar}\\frac{d}{dt}\\left(e^{-ait}\\right)\n",
    "\\end{align*}"
   ]
  },
  {
   "cell_type": "markdown",
   "id": "d3c27e5c-1c9b-4665-8204-2fd5ba9f85a2",
   "metadata": {},
   "source": [
    "Using the chain rule, we get:\n",
    "\\begin{align*}\n",
    "\\frac{\\partial\\Psi}{\\partial t}=Ae^{-amx^2/\\hbar}\\left(e^{-ait}\\right)(-ia)=Ae^{-amx^2/\\hbar}e^{-ait}(-ia)=\\Psi(-ia)=-ia\\Psi\n",
    "\\end{align*}"
   ]
  },
  {
   "cell_type": "markdown",
   "id": "d8d54ef4-5215-4be7-99c6-a09bfbbdfcd7",
   "metadata": {},
   "source": [
    "With these two variables found, we can now solve for $V$:\n",
    "\\begin{align*}\n",
    "V\\Psi=i\\hbar\\frac{\\partial\\Psi}{\\partial t}+\\frac{\\hbar^2}{2m}\\frac{\\partial^2\\Psi}{\\partial x^2}=i\\hbar(-ia)\\Psi+\\frac{\\hbar^2}{2m}\\left(\\frac{2am}{\\hbar}\\right)\\left(\\frac{2amx^2}{\\hbar}-1\\right)\\Psi\n",
    "\\end{align*}"
   ]
  },
  {
   "cell_type": "markdown",
   "id": "43a95e2c-f417-47f2-a1fb-c6b9a64f1195",
   "metadata": {},
   "source": [
    "First, we can factor $\\Psi$ and then expand the innermost terms:\n",
    "\\begin{align*}\n",
    "V\\Psi=\\left[i\\hbar(-ia)+\\frac{\\hbar^2}{2m}\\left(\\frac{2am}{\\hbar}\\right)\\left(\\frac{2amx^2}{\\hbar}-1\\right)\\right]\\Psi=\\left[\\hbar a+\\hbar a\\left(\\frac{2amx^2}{\\hbar}-1\\right)\\right]\\Psi=\\left(\\hbar a+2a^2mx^2-\\hbar a\\right)\\Psi\n",
    "\\end{align*}"
   ]
  },
  {
   "cell_type": "markdown",
   "id": "6fe6cc3a-8240-49f4-ad00-45dfaa765b01",
   "metadata": {},
   "source": [
    "The $\\Psi$'s and $\\hbar a$'s cancel leaving us with:\n",
    "\\begin{align*}\n",
    "V=2a^2mx^2\n",
    "\\end{align*}\n",
    "where $V=V(x)$."
   ]
  }
 ],
 "metadata": {
  "kernelspec": {
   "display_name": "Quantum_Mechanics_venv",
   "language": "python",
   "name": "quantum_mechanics_venv"
  },
  "language_info": {
   "codemirror_mode": {
    "name": "ipython",
    "version": 3
   },
   "file_extension": ".py",
   "mimetype": "text/x-python",
   "name": "python",
   "nbconvert_exporter": "python",
   "pygments_lexer": "ipython3",
   "version": "3.10.14"
  }
 },
 "nbformat": 4,
 "nbformat_minor": 5
}
