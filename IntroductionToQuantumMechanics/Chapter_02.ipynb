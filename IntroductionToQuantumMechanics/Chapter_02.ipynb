{
 "cells": [
  {
   "cell_type": "code",
   "execution_count": 1,
   "id": "8e8a9705-ca85-4dcf-bcb8-bee5dae0611d",
   "metadata": {},
   "outputs": [],
   "source": [
    "# Author: Brent Artuch\n",
    "# Date: 2024-10-17"
   ]
  },
  {
   "cell_type": "markdown",
   "id": "eaf269a3-3581-48ea-961c-ab7e9f9d42bb",
   "metadata": {},
   "source": [
    "## Time-Independent Schrödinger Equation\n",
    "The time-indepentdnet Schrödinger equation is denoted:\n",
    "\\begin{align*}\n",
    "-\\frac{\\hbar^2}{2m}\\frac{d^2\\psi}{dx^2}+V\\psi=E\\psi\n",
    "\\end{align*}\n",
    "And the general solution to this equation is:\n",
    "\\begin{align*}\n",
    "\\varphi(t)=e^{-iEt/\\hbar}\n",
    "\\end{align*}"
   ]
  },
  {
   "cell_type": "markdown",
   "id": "e6fdafe0-f1c8-4822-9a71-0e715e72b209",
   "metadata": {},
   "source": [
    "#### The importance of this solution\n",
    "1. They describe $\\mathbf{stationary\\ states}$.\n",
    "This solution is the result of solving the time-independent Shrödinger equation via variable seperation denoted:\n",
    "\\begin{align*}\n",
    "\\Psi(x,t)=\\psi(x)\\varphi(t)\n",
    "\\end{align*}\n",
    "where $\\psi(x)$ is the function of position and $\\varphi(t)$ is the funciton of time.<br>\n",
    "<br>\n",
    "This means that the wave function with the solution is now:\n",
    "\\begin{align*}\n",
    "\\Psi(x,t)=\\psi(x)e^{-iEt/\\hbar}\n",
    "\\end{align*}\n",
    "When we calculate the probability density, the time variable $t$ will cancel in the process of taking the norm squared as shown:\n",
    "\\begin{align*}\n",
    "|\\Psi(x,t)|^2=\\Psi^*\\Psi=\\psi^*e^{iEt/\\hbar}\\psi e^{-iEt/\\hbar}=\\psi^*\\psi=|\\psi(x)|^2\n",
    "\\end{align*}"
   ]
  },
  {
   "cell_type": "markdown",
   "id": "87631c12-1b84-48dd-93a9-5afdd949d717",
   "metadata": {},
   "source": [
    "2. They are states of $\\mathbf{definite\\ total\\ energy}$. In classical mechanics, the total energy (kinetic + potential) is called the Hamiltonian denoted:\n",
    "\\begin{align*}\n",
    "H(x,p)=\\frac{p^2}{2m}+V(x)\n",
    "\\end{align*}\n",
    "The quantum Hamiltonian operator $\\hat{H}$ is the substitution of the expectation value of kinetic energy $\\langle T\\rangle$ into that equation as shown:\n",
    "\\begin{align*}\n",
    "\\hat{H}=-\\frac{\\hbar^2}{2m}\\frac{d^2}{dx^2}+V(x)\n",
    "\\end{align*}\n",
    "Which is just the time independent Shrödinger equation shown above, therefore:\n",
    "\\begin{align*}\n",
    "\\hat{H}\\psi=E\\psi\n",
    "\\end{align*}\n",
    "where the expectaion value of the total energy is $\\langle H\\rangle=E$"
   ]
  },
  {
   "cell_type": "markdown",
   "id": "321a4933-0bed-4340-8d03-49f4eddd181f",
   "metadata": {},
   "source": [
    "3. The general solution is a $\\mathbf{linear\\ combination}$ of seperable solutions. So, for a set of solutions $\\{\\psi_1(x),\\psi_2(x),...,\\psi_n(x)\\}$ and energy constants $\\{E_1,E_2,...,E_n\\}$ each individual state is:\n",
    "\\begin{align*}\n",
    "\\Psi_n(x,t)&=\\psi_n(x)e^{-iE_nt/\\hbar}\\\\\n",
    "\\end{align*}\n",
    "and the state of the system is:\n",
    "\\begin{align*}\n",
    "\\Psi(x,t)&=c_1\\psi_1(x)e^{-iE_1t/\\hbar}+c_2\\psi_2(x)e^{-iE_2t/\\hbar}+...+c_n\\psi_n(x)e^{-iE_nt/\\hbar}\\\\\n",
    "&=\\sum_{n=1}^{\\infty}c_n\\psi_n(x)e^{-iE_nt/\\hbar}\\\\\n",
    "&=\\sum_{n=1}^{\\infty}c_n\\Psi_n(x,t)\n",
    "\\end{align*}\n",
    "where $c_i$ is the corresponding constant of each individual state."
   ]
  },
  {
   "cell_type": "markdown",
   "id": "53fd54d1-4d04-4992-a026-eb2b71fdfa02",
   "metadata": {},
   "source": [
    "Example - Suppose a particle starts out in a linear combination of just two stationary states:\n",
    "\\begin{align*}\n",
    "\\Psi(x,0)=c_1\\psi_1(x)+c_2\\psi_2(x)\n",
    "\\end{align*}"
   ]
  },
  {
   "cell_type": "markdown",
   "id": "02afcf0d-462f-4d1b-bf84-18ec167e6f4f",
   "metadata": {},
   "source": [
    "What is the wave function $\\Psi(x,t)$ at subsequent times?<br>\n",
    "Answer: To express the wave function $\\Psi(x,t)$, we insert the energies associated with $\\psi_1$ and $\\psi_2$:\n",
    "\\begin{align*}\n",
    "\\Psi(x,t)=c_1\\psi_1(x)e^{-iE_1t/\\hbar}+c_2\\psi_2(x)e^{-iE_2t/\\hbar}\\\\\n",
    "\\end{align*}\n",
    "where $E_1$ and $E_2$ are the energies asscoiated with the states $\\psi_1$ and $\\psi_2$."
   ]
  },
  {
   "cell_type": "markdown",
   "id": "fde07dd1-88d1-4776-8a9f-17f19d61c402",
   "metadata": {},
   "source": [
    "Find the probability density.<br>\n",
    "Answer: To determine the probability density, we need to calculate $\\Psi^*\\Psi$.\n",
    "\\begin{align*}\n",
    "|\\Psi(x,t)|^2&=\\left(c_1\\psi_1(x)e^{-iE_1t/\\hbar}+c_2\\psi_2(x)e^{-iE_2t/\\hbar}\\right)^*\\left(c_1\\psi_1(x)e^{-iE_1t/\\hbar}+c_2\\psi_2(x)e^{-iE_2t/\\hbar}\\right)\\\\\n",
    "&=\\left(c_1\\psi_1(x)e^{iE_1t/\\hbar}+c_2\\psi_2(x)e^{iE_2t/\\hbar}\\right)\\left(c_1\\psi_1(x)e^{-iE_1t/\\hbar}+c_2\\psi_2(x)e^{-iE_2t/\\hbar}\\right)\\\\\n",
    "&=c_1^2\\psi_1^2+c_1\\psi_1c_2\\psi_2e^{(iE_1t/\\hbar)+(-iE_2t/\\hbar)}+c_1\\psi_1c_2\\psi_2e^{(iE_2t/\\hbar)+(-iE_2t/\\hbar)}+c_2^2\\psi_2^2\\\\\n",
    "&=c_1^2\\psi_1^2+c_1\\psi_1c_2\\psi_2e^{-i(E_2t/\\hbar-E_1t/\\hbar)}+c_1\\psi_1c_2\\psi_2e^{i(E_2t/\\hbar-E_1t/\\hbar)}+c_2^2\\psi_2^2\\\\\n",
    "&=c_1^2\\psi_1^2+c_1\\psi_1c_2\\psi_2e^{-i[(E_2-E_1)t/\\hbar]}+c_1\\psi_1c_2\\psi_2e^{i[(E_2-E_1)t/\\hbar]}+c_2^2\\psi_2^2\\\\\n",
    "\\end{align*}"
   ]
  },
  {
   "cell_type": "markdown",
   "id": "203ec79e-c243-4832-8107-31061c47ec54",
   "metadata": {},
   "source": [
    "Recall that:\n",
    "\\begin{align*}\n",
    "2\\cos x=e^{ix}+e^{-ix}\n",
    "\\end{align*}"
   ]
  },
  {
   "cell_type": "markdown",
   "id": "bdc1638b-afce-4f43-838d-19b249728631",
   "metadata": {},
   "source": [
    "Therefore:\n",
    "\\begin{align*}\n",
    "|\\Psi(x,t)|^2=c_1^2\\psi_1^2+2c_1\\psi_1c_2\\psi_2\\cos[(E_2-E_1)t/\\hbar]+c_2^2\\psi_2^2\\\\\n",
    "\\end{align*}\n",
    "and we can say that the probability density oscillates sinusoidally (sine wave-like), at an angualr frequency:\n",
    "\\begin{align*}\n",
    "\\omega=(E_2-E_1)/\\hbar\n",
    "\\end{align*}"
   ]
  },
  {
   "cell_type": "markdown",
   "id": "81e74006-ee7d-40f9-b875-21d6b6efd676",
   "metadata": {},
   "source": [
    "Note: The norm squared of the coeficients $c_n$ determines the probability that a measurement of energy would return the value $E_n$, denoted: \n",
    "\\begin{align*}\n",
    "|c_n|^2\n",
    "\\end{align*}\n",
    "And the sum of these probabilities should be equal to $1$:\n",
    "\\begin{align*}\n",
    "\\sum_{n=1}^{\\infty}|c_n|^2=1\n",
    "\\end{align*}\n",
    "and the expectation value of the energy must be:\n",
    "\\begin{align*}\n",
    "\\langle H\\rangle=\\sum_{n=1}^{\\infty}|c_n|^2E_n\n",
    "\\end{align*}"
   ]
  }
 ],
 "metadata": {
  "kernelspec": {
   "display_name": "Quantum_Mechanics_venv",
   "language": "python",
   "name": "quantum_mechanics_venv"
  },
  "language_info": {
   "codemirror_mode": {
    "name": "ipython",
    "version": 3
   },
   "file_extension": ".py",
   "mimetype": "text/x-python",
   "name": "python",
   "nbconvert_exporter": "python",
   "pygments_lexer": "ipython3",
   "version": "3.10.14"
  }
 },
 "nbformat": 4,
 "nbformat_minor": 5
}
