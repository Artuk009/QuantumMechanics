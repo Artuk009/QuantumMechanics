{
 "cells": [
  {
   "cell_type": "code",
   "execution_count": 1,
   "id": "8e8a9705-ca85-4dcf-bcb8-bee5dae0611d",
   "metadata": {},
   "outputs": [],
   "source": [
    "# Author: Brent Artuch\n",
    "# Date: 2024-10-17"
   ]
  },
  {
   "cell_type": "markdown",
   "id": "eaf269a3-3581-48ea-961c-ab7e9f9d42bb",
   "metadata": {},
   "source": [
    "## Time-Independent Schrödinger Equation\n",
    "The time-indepentdnet Schrödinger equation is denoted:\n",
    "\\begin{align*}\n",
    "-\\frac{\\hbar^2}{2m}\\frac{d^2\\psi}{dx^2}+V\\psi=E\\psi\n",
    "\\end{align*}\n",
    "And the general solution to this equation is:\n",
    "\\begin{align*}\n",
    "\\varphi(t)=e^{-iEt/\\hbar}\n",
    "\\end{align*}"
   ]
  },
  {
   "cell_type": "markdown",
   "id": "e6fdafe0-f1c8-4822-9a71-0e715e72b209",
   "metadata": {},
   "source": [
    "#### The importance of this solution\n",
    "1. They describe $\\mathbf{stationary\\ states}$.\n",
    "This solution is the result of solving the time-independent Shrödinger equation via variable seperation denoted:\n",
    "\\begin{align*}\n",
    "\\Psi(x,t)=\\psi(x)\\varphi(t)\n",
    "\\end{align*}\n",
    "where $\\psi(x)$ is the function of position and $\\varphi(t)$ is the funciton of time.<br>\n",
    "<br>\n",
    "This means that the wave function with the solution is now:\n",
    "\\begin{align*}\n",
    "\\Psi(x,t)=\\psi(x)e^{-iEt/\\hbar}\n",
    "\\end{align*}\n",
    "When we calculate the probability density, the time variable $t$ will cancel in the process of taking the norm squared as shown:\n",
    "\\begin{align*}\n",
    "|\\Psi(x,t)|^2=\\Psi^*\\Psi=\\psi^*e^{iEt/\\hbar}\\psi e^{-iEt/\\hbar}=\\psi^*\\psi=|\\psi(x)|^2\n",
    "\\end{align*}"
   ]
  },
  {
   "cell_type": "markdown",
   "id": "87631c12-1b84-48dd-93a9-5afdd949d717",
   "metadata": {},
   "source": [
    "2. They are states of $\\mathbf{definite\\ total\\ energy}$. In classical mechanics, the total energy (kinetic + potential) is called the Hamiltonian denoted:\n",
    "\\begin{align*}\n",
    "H(x,p)=\\frac{p^2}{2m}+V(x)\n",
    "\\end{align*}\n",
    "The quantum Hamiltonian operator $\\hat{H}$ is the substitution of the expectation value of kinetic energy $\\langle T\\rangle$ into that equation as shown:\n",
    "\\begin{align*}\n",
    "\\hat{H}=-\\frac{\\hbar^2}{2m}\\frac{d^2}{dx^2}+V(x)\n",
    "\\end{align*}\n",
    "Which is just the time independent Shrödinger equation shown above, therefore:\n",
    "\\begin{align*}\n",
    "\\hat{H}\\psi=E\\psi\n",
    "\\end{align*}\n",
    "where the expectaion value of the total energy is $\\langle H\\rangle=E$"
   ]
  },
  {
   "cell_type": "markdown",
   "id": "321a4933-0bed-4340-8d03-49f4eddd181f",
   "metadata": {},
   "source": [
    "3. The general solution is a $\\mathbf{linear\\ combination}$ of seperable solutions. So, for a set of solutions $\\{\\psi_1(x),\\psi_2(x),...,\\psi_n(x)\\}$ and energy constants $\\{E_1,E_2,...,E_n\\}$ each individual state is:\n",
    "\\begin{align*}\n",
    "\\Psi_n(x,t)&=\\psi_n(x)e^{-iE_nt/\\hbar}\\\\\n",
    "\\end{align*}\n",
    "and the state of the system is:\n",
    "\\begin{align*}\n",
    "\\Psi(x,t)&=c_1\\psi_1(x)e^{-iE_1t/\\hbar}+c_2\\psi_2(x)e^{-iE_2t/\\hbar}+...+c_n\\psi_n(x)e^{-iE_nt/\\hbar}\\\\\n",
    "&=\\sum_{n=1}^{\\infty}c_n\\psi_n(x)e^{-iE_nt/\\hbar}\\\\\n",
    "&=\\sum_{n=1}^{\\infty}c_n\\Psi_n(x,t)\n",
    "\\end{align*}\n",
    "where $c_i$ is the corresponding constant of each individual state."
   ]
  }
 ],
 "metadata": {
  "kernelspec": {
   "display_name": "Quantum_Mechanics_venv",
   "language": "python",
   "name": "quantum_mechanics_venv"
  },
  "language_info": {
   "codemirror_mode": {
    "name": "ipython",
    "version": 3
   },
   "file_extension": ".py",
   "mimetype": "text/x-python",
   "name": "python",
   "nbconvert_exporter": "python",
   "pygments_lexer": "ipython3",
   "version": "3.10.14"
  }
 },
 "nbformat": 4,
 "nbformat_minor": 5
}
