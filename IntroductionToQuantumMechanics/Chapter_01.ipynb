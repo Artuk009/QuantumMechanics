{
 "cells": [
  {
   "cell_type": "code",
   "execution_count": 1,
   "id": "c4b1f386-83d7-4308-90f4-20b6dea64f3e",
   "metadata": {},
   "outputs": [],
   "source": [
    "# Author: Brent Artuch\n",
    "# Date: 2024-10-04\n",
    "import numpy as np\n",
    "import sympy as sp\n",
    "import spb\n",
    "import pandas as pd\n",
    "from IPython.display import *\n",
    "import matplotlib.pyplot as plt\n",
    "\n",
    "sp.init_printing()"
   ]
  },
  {
   "cell_type": "markdown",
   "id": "5b41b8ef-4435-4b7a-8619-571c6d259bb1",
   "metadata": {},
   "source": [
    "## 1.3 - Probability\n",
    "#### Discrete Variables\n",
    "Imagine a room of 14 people with the following ages:\n",
    "* 1 person age 14\n",
    "* 1 person age 15\n",
    "* 3 people age 16\n",
    "* 2 people age 22\n",
    "* 2 people age 24\n",
    "* 5 people age 25\n",
    "<br><br>\n",
    "We can reference the number of people by age with the function $N(j)$, where $j$ is the age value."
   ]
  },
  {
   "cell_type": "code",
   "execution_count": 2,
   "id": "02dec472-e6b8-4ae2-a767-c3bf89d4b9a3",
   "metadata": {},
   "outputs": [
    {
     "data": {
      "image/png": "[encoded data removed]",
      "text/latex": [
       "$\\displaystyle 2$"
      ],
      "text/plain": [
       "2"
      ]
     },
     "execution_count": 2,
     "metadata": {},
     "output_type": "execute_result"
    }
   ],
   "source": [
    "R = [(1,14),(1,15),(3,16),(2,22),(2,24),(5,25)]\n",
    "def number_of_people(age, R):\n",
    "    for age_count in R:\n",
    "        if age_count[1] == age:\n",
    "            return age_count[0]\n",
    "    print(\"No one in the room is the given age.\")\n",
    "\n",
    "number_of_people(22, R)"
   ]
  },
  {
   "cell_type": "markdown",
   "id": "2e5126cd-14f2-48df-80e3-88ee69f7ed10",
   "metadata": {},
   "source": [
    "The total number of people $N$ can be expressed by the function: $$N=\\sum_{j=0}^{\\infty}N(j)$$"
   ]
  },
  {
   "cell_type": "code",
   "execution_count": 3,
   "id": "5100b06d-a858-435b-909c-92f48759662b",
   "metadata": {},
   "outputs": [
    {
     "data": {
      "image/png": "[encoded data removed]",
      "text/latex": [
       "$\\displaystyle 14$"
      ],
      "text/plain": [
       "14"
      ]
     },
     "execution_count": 3,
     "metadata": {},
     "output_type": "execute_result"
    }
   ],
   "source": [
    "def total_number_of_people(R):\n",
    "    total = 0\n",
    "    for age_count in R:\n",
    "        total += number_of_people(age_count[1], R)\n",
    "    return total\n",
    "\n",
    "total_number_of_people(R)"
   ]
  },
  {
   "cell_type": "code",
   "execution_count": 4,
   "id": "69b52c1a-5b7f-4584-82ba-3025f0823011",
   "metadata": {},
   "outputs": [
    {
     "data": {
      "text/plain": [
       "<Axes: title={'center': 'Number of People, $N(j)$, with $j$ age'}, xlabel='$j$', ylabel='$N(j)$'>"
      ]
     },
     "execution_count": 4,
     "metadata": {},
     "output_type": "execute_result"
    },
    {
     "data": {
      "image/png": "[encoded data removed]",
      "text/plain": [
       "<Figure size 640x480 with 1 Axes>"
      ]
     },
     "metadata": {},
     "output_type": "display_data"
    }
   ],
   "source": [
    "# Histogram plot showing the number of prople for each N(j)\n",
    "data = [14,15,16,16,16,22,22,24,24,25,25,25,25,25]\n",
    "room = pd.Series(data)\n",
    "room.plot.hist(\n",
    "    bins=20, title=r\"Number of People, $N(j)$, with $j$ age\", xlabel=r\"$j$\",\n",
    "    ylabel=r\"$N(j)$\", xticks=list(range(10,27)), edgecolor=\"black\"\n",
    ")"
   ]
  },
  {
   "cell_type": "markdown",
   "id": "5aee2062-8e07-47b8-b8b2-8f651d912c85",
   "metadata": {},
   "source": [
    "The probability of someone being a particular age(s) can be expressed as: $$P(j)=\\frac{N(j)}{N}=1$$"
   ]
  },
  {
   "cell_type": "code",
   "execution_count": 5,
   "id": "0551c2df-101a-4dd5-9b44-d4deddfca08e",
   "metadata": {},
   "outputs": [
    {
     "data": {
      "image/png": "[encoded data removed]",
      "text/latex": [
       "$\\displaystyle \\frac{1}{7}$"
      ],
      "text/plain": [
       "1/7"
      ]
     },
     "execution_count": 5,
     "metadata": {},
     "output_type": "execute_result"
    }
   ],
   "source": [
    "def probability_of_age(ages, R):\n",
    "    num_people = 0\n",
    "    for age in ages:\n",
    "        num_people += number_of_people(age, R)\n",
    "    probability = num_people/total_number_of_people(R)\n",
    "    return probability\n",
    "\n",
    "sp.nsimplify(probability_of_age([14,15], R), rational=True)"
   ]
  },
  {
   "cell_type": "markdown",
   "id": "9737c389-3cc3-43eb-8b4d-549a78497edf",
   "metadata": {},
   "source": [
    "Average age is denoted: $$\\langle j\\rangle=\\frac{\\sum jN(j)}{N}=\\sum_{j=0}^{\\infty}jP(j)$$"
   ]
  },
  {
   "cell_type": "code",
   "execution_count": 6,
   "id": "f960df55-6ae5-4a3d-8971-c9835a12359a",
   "metadata": {},
   "outputs": [
    {
     "data": {
      "image/png": "[encoded data removed]",
      "text/latex": [
       "$\\displaystyle 21.0$"
      ],
      "text/plain": [
       "21.0"
      ]
     },
     "execution_count": 6,
     "metadata": {},
     "output_type": "execute_result"
    }
   ],
   "source": [
    "def average_age(R):\n",
    "    average = 0\n",
    "    for age_count in R:\n",
    "        average += age_count[1] * probability_of_age([age_count[1]], R)\n",
    "    return average\n",
    "\n",
    "average_age(R)"
   ]
  },
  {
   "cell_type": "markdown",
   "id": "75ec0e5b-fd95-4e2a-be26-454d061ff6b9",
   "metadata": {},
   "source": [
    "The average of a function of the age $j$ is given by: $$\\langle f(j)\\rangle=\\sum_{j=0}^{\\infty}f(j)P(j)$$"
   ]
  },
  {
   "cell_type": "code",
   "execution_count": 7,
   "id": "0837d4b1-e510-42c6-b4c5-ced45b649ad1",
   "metadata": {},
   "outputs": [
    {
     "data": {
      "image/png": "[encoded data removed]",
      "text/latex": [
       "$\\displaystyle 459.571428571429$"
      ],
      "text/plain": [
       "459.571428571429"
      ]
     },
     "execution_count": 7,
     "metadata": {},
     "output_type": "execute_result"
    }
   ],
   "source": [
    "# Example \n",
    "j = sp.symbols(\"j\")\n",
    "def average_of_function(function, R):   \n",
    "    average = 0\n",
    "    for age_count in R:\n",
    "        average += function.subs(j,age_count[1]) * probability_of_age([age_count[1]], R)\n",
    "    return average\n",
    "\n",
    "function = j**2\n",
    "average_of_function(function, R)"
   ]
  },
  {
   "cell_type": "markdown",
   "id": "4cff466d-8750-4e46-90ce-67f8c02f9a60",
   "metadata": {},
   "source": [
    "The variance of the distribtuion is: $$\\sigma^{2}\\equiv\\langle j^2\\rangle-\\langle j\\rangle^2$$"
   ]
  },
  {
   "cell_type": "code",
   "execution_count": 8,
   "id": "9d324ff6-557b-4882-a34f-16709ce5a4e3",
   "metadata": {},
   "outputs": [
    {
     "data": {
      "image/png": "[encoded data removed]",
      "text/latex": [
       "$\\displaystyle 18.5714285714286$"
      ],
      "text/plain": [
       "18.5714285714286"
      ]
     },
     "execution_count": 8,
     "metadata": {},
     "output_type": "execute_result"
    }
   ],
   "source": [
    "def variance_of_ages(R):\n",
    "    function = j**2\n",
    "    return average_of_function(function,R) - average_age(R)**2\n",
    "\n",
    "variance_of_ages(R)"
   ]
  },
  {
   "cell_type": "markdown",
   "id": "20b080ff-45c9-45be-9c92-530263832867",
   "metadata": {},
   "source": [
    "The standard deviation is: $$\\sigma=\\sqrt{\\langle j^2\\rangle-\\langle j\\rangle^2}$$"
   ]
  },
  {
   "cell_type": "code",
   "execution_count": 9,
   "id": "2751681e-8a75-4670-ab83-64f85739b64e",
   "metadata": {},
   "outputs": [
    {
     "data": {
      "image/png": "[encoded data removed]",
      "text/latex": [
       "$\\displaystyle 4.30945803685667$"
      ],
      "text/plain": [
       "4.30945803685667"
      ]
     },
     "execution_count": 9,
     "metadata": {},
     "output_type": "execute_result"
    }
   ],
   "source": [
    "def standard_deviation(R):\n",
    "    return sp.sqrt(variance_of_ages(R))\n",
    "\n",
    "standard_deviation(R)"
   ]
  },
  {
   "cell_type": "markdown",
   "id": "7eebc808-6900-4f96-9c89-a6aa8c4a5748",
   "metadata": {},
   "source": [
    "#### Continuous Variables\n",
    "Probability Density - The probability that $x$ lies between $a$ and $b$ is given by the integral.\n",
    "$$\n",
    "P_{ab}=\\int_{a}^{b}\\rho(x)dx\n",
    "$$\n",
    "Corresponding properties to match descrete variants:\n",
    "\\begin{align*}\n",
    "&\\int_{-\\infty}^{+\\infty}\\rho(x)dx=1\\\\\n",
    "&\\langle x\\rangle=\\int_{-\\infty}^{+\\infty}x\\rho(x)dx\\\\\n",
    "&\\langle f(x)\\rangle=\\int_{-\\infty}^{+\\infty}f(x)\\rho(x)dx\\\\\n",
    "&\\sigma^{2}\\equiv\\langle x^2\\rangle-\\langle x\\rangle^2\n",
    "\\end{align*}"
   ]
  },
  {
   "cell_type": "markdown",
   "id": "3e94047e-b712-4c65-96af-0a39af518ece",
   "metadata": {},
   "source": [
    "Full Continuous Example:<br>\n",
    "Object falls from Height $h$. One million distance measurements at random intervals are taken as the object falls (this large sample emulates the whole continuum). What is the time average of the distance traveled?<br>\n",
    "Answer:<br>\n",
    "In vacuum, the distance $x$ at time $t$ is:\n",
    "$$\n",
    "x(t)=\\frac{1}{2}gt^2\n",
    "$$\n",
    "The velocity is $dx/dt = gt$, the total flight time is $T=\\sqrt{2h/g}$, and the probability that a measurement was taken between $t$ and $t+dt$ is $dt/T$.<br> \n",
    "\\begin{align*}\n",
    "\\frac{dt}{T}&=\\frac{dx}{gt}\\sqrt{\\frac{g}{2h}}\n",
    "\\end{align*}\n",
    "Solve for $t$ using the distance equation:<br>\n",
    "\\begin{align*}\n",
    "x&=\\frac{1}{2}gt^2\\rightarrow 2x=gt^2\\rightarrow \\frac{2x}{g}=t^2\\rightarrow t=\\sqrt{\\frac{2x}{g}}\n",
    "\\end{align*}\n",
    "Plug in $t$ and solve:\n",
    "\\begin{align*}\n",
    "\\frac{dt}{T}&=\\frac{dx\\sqrt{g}}{g\\sqrt{\\frac{2x}{g}}\\sqrt{2h}}=\\frac{dx\\sqrt{g}}{\\sqrt{2xg}\\sqrt{2h}}=\\frac{dx}{\\sqrt{2x}\\sqrt{2h}}=\\frac{dx}{2\\sqrt{xh}}\n",
    "\\end{align*}\n",
    "The probability density is:\n",
    "\\begin{align*}\n",
    "\\rho(x)=\\frac{dx}{2\\sqrt{xh}} \\ \\ \\ \\text{ where. } \\ \\ \\ (0\\le x\\le h) \n",
    "\\end{align*}\n",
    "Check that the results equal 1:\n",
    "\\begin{align*}\n",
    "\\int_{a}^{b}\\rho(x)dx=\\int_{0}^{h}\\frac{dx}{2\\sqrt{xh}}=\\frac{1}{2\\sqrt{h}}\\int_{0}^{h}\\frac{1}{\\sqrt{x}}dx=\\frac{1}{2\\sqrt{h}} (2\\sqrt{x})\\Big|_0^h=\\frac{1}{2\\sqrt{h}} (2\\sqrt{h})=1\n",
    "\\end{align*}\n",
    "Note: Recall that a definite integral from $a$ to $b$ in terms of $x$ is:\n",
    "\\begin{align*}\n",
    "\\int_{a}^{b}kx^{m}dx=k\\int_{a}^{b}x^{m}dx=k\\left( \\frac{x^{m+1}}{m+1} \\right)\\Big|_a^b=k\\left( \\frac{b^{m+1}}{m+1} - \\frac{a^{m+1}}{m+1}\\right)\n",
    "\\end{align*}\n",
    "Lastly, find the average distance:\n",
    "\\begin{align*}\n",
    "\\langle x\\rangle=\\int_{0}^{h}x\\frac{dx}{2\\sqrt{xh}}=\\frac{1}{2\\sqrt{h}}\\int_{0}^{h}\\frac{x}{\\sqrt{x}}dx=\\frac{1}{2\\sqrt{h}} \\left(\\frac{2x^{3/2}}{3}\\right)\\Big|_0^h=\\frac{1}{2\\sqrt{h}} \\left(\\frac{2h^{3/2}}{3}\\right)=\\frac{h^{3/2-1/2}}{3}=\\frac{h}{3}\n",
    "\\end{align*}"
   ]
  },
  {
   "cell_type": "code",
   "execution_count": 10,
   "id": "58d04c04-796f-4052-9d9f-143290900c95",
   "metadata": {},
   "outputs": [
    {
     "data": {
      "text/plain": [
       "True"
      ]
     },
     "metadata": {},
     "output_type": "display_data"
    },
    {
     "data": {
      "image/png": "[encoded data removed]",
      "text/latex": [
       "$\\displaystyle \\frac{dx h}{3}$"
      ],
      "text/plain": [
       "dx⋅h\n",
       "────\n",
       " 3  "
      ]
     },
     "metadata": {},
     "output_type": "display_data"
    }
   ],
   "source": [
    "# Calculate with code\n",
    "# Define the variables\n",
    "h,x,g,t,dx = sp.symbols(\"h,x,g,t,dx\")\n",
    "# Define the distance equation x(t)\n",
    "distance_equation = sp.Eq(sp.Rational(1,2)*g*t**2, x)\n",
    "# Solve the distance equation for time t\n",
    "de_in_terms_of_t = sp.solve(distance_equation, t)\n",
    "# Set t equal to the positive value from the quadratic equation\n",
    "t = de_in_terms_of_t[1]\n",
    "# Define change in time dt\n",
    "dt = dx/(g*t)\n",
    "# Define total time T\n",
    "T = sp.sqrt((2*h)/g)\n",
    "# Solve dt/T\n",
    "dt_over_T = dt/T\n",
    "# Integrate to ensure the results equal 1\n",
    "is_equal_to_one = sp.integrate(dt_over_T,(x,0,h)) == dx\n",
    "# Find the average distance\n",
    "average_x = sp.integrate(x*dt_over_T,(x,0,h))\n",
    "\n",
    "# Display results \n",
    "display(is_equal_to_one)\n",
    "display(average_x.simplify())"
   ]
  },
  {
   "cell_type": "code",
   "execution_count": 11,
   "id": "ac8be3cb-d843-473d-af35-67aa5728f027",
   "metadata": {},
   "outputs": [
    {
     "data": {
      "image/png": "[encoded data removed]",
      "text/plain": [
       "<Figure size 640x480 with 1 Axes>"
      ]
     },
     "metadata": {},
     "output_type": "display_data"
    },
    {
     "data": {
      "text/plain": [
       "<spb.backends.matplotlib.matplotlib.MatplotlibBackend at 0x208ad1925d0>"
      ]
     },
     "execution_count": 11,
     "metadata": {},
     "output_type": "execute_result"
    }
   ],
   "source": [
    "h=2\n",
    "# Note: the range of the funciotn begins ate 1/2h and the max probability , y, is 1.\n",
    "spb.plot(1/(2*sp.sqrt(x*h)), (x,0.0000001,h), xlim=(-0.1,2), ylim=(0,1), title=r\"$\\rho(x)=\\frac{1}{2\\sqrt{hx}}$\")"
   ]
  },
  {
   "cell_type": "markdown",
   "id": "f411e656-bd96-4acb-9cb8-02accf36e828",
   "metadata": {},
   "source": [
    "Find the standard deviation by first solving for $\\langle x^2\\rangle$: <br>\n",
    "\\begin{align*}\n",
    "\\langle x^2\\rangle=\\int_{0}^{h}x^2\\frac{dx}{2\\sqrt{xh}}=\\frac{1}{2\\sqrt{h}}\\int_{0}^{h}\\frac{x^2}{\\sqrt{x}}dx=\\frac{1}{2\\sqrt{h}} \\left(\\frac{2x^{5/2}}{5}\\right)\\Big|_0^h=\\frac{1}{2\\sqrt{h}} \\left(\\frac{2h^{5/2}}{5}\\right)=\\frac{h^{5/2-1/2}}{5}=\\frac{h^2}{5}\n",
    "\\end{align*}\n",
    "Now we can calculate the variance $\\sigma^2$:\n",
    "\\begin{align*}\n",
    "\\sigma^2=\\langle x^2\\rangle - \\langle x\\rangle^2=\\frac{h^2}{5}-\\frac{h}{3}^2=\\frac{h^2}{5}-\\frac{h^2}{9}=\\frac{4h^2}{45}\n",
    "\\end{align*}\n",
    "and finally the standard deviation $\\sigma$:\n",
    "\\begin{align*}\n",
    "\\sigma=\\sqrt{\\frac{4h^2}{45}}=\\frac{2h}{3\\sqrt{5}}\n",
    "\\end{align*}"
   ]
  },
  {
   "cell_type": "code",
   "execution_count": 12,
   "id": "e1126ef1-93de-45f9-9e5d-e389906dc1a9",
   "metadata": {},
   "outputs": [
    {
     "data": {
      "image/png": "[encoded data removed]",
      "text/latex": [
       "$\\displaystyle \\frac{\\sqrt{5} \\sqrt{dx h^{2} \\left(9 - 5 dx\\right)}}{15}$"
      ],
      "text/plain": [
       "      __________________\n",
       "     ╱     2            \n",
       "√5⋅╲╱  dx⋅h ⋅(9 - 5⋅dx) \n",
       "────────────────────────\n",
       "           15           "
      ]
     },
     "execution_count": 12,
     "metadata": {},
     "output_type": "execute_result"
    }
   ],
   "source": [
    "# Use sympy to find the standard deviation\n",
    "h,x,g,t,dx = sp.symbols(\"h,x,g,t,dx\")\n",
    "average_squared_x = sp.integrate((x**2)*dt_over_T,(x,0,h))\n",
    "sigma_squared = average_squared_x - average_x**2\n",
    "sigma = sp.sqrt(sigma_squared)\n",
    "sigma.simplify() "
   ]
  },
  {
   "cell_type": "code",
   "execution_count": 13,
   "id": "b4dec5f6-c968-4fb0-94c5-67864a46da71",
   "metadata": {},
   "outputs": [
    {
     "data": {
      "text/plain": [
       "np.True_"
      ]
     },
     "execution_count": 13,
     "metadata": {},
     "output_type": "execute_result"
    }
   ],
   "source": [
    "# Prove that this does in fact equal the latex expression above\n",
    "test_sigma = sp.lambdify((dx,h,g),sigma)\n",
    "test_latex_sigma = sp.lambdify((h), (2*h)/sp.sqrt(45))\n",
    "test_sigma(1,2,1) == test_latex_sigma(2)"
   ]
  }
 ],
 "metadata": {
  "kernelspec": {
   "display_name": "Quantum_Mechanics_venv",
   "language": "python",
   "name": "quantum_mechanics_venv"
  },
  "language_info": {
   "codemirror_mode": {
    "name": "ipython",
    "version": 3
   },
   "file_extension": ".py",
   "mimetype": "text/x-python",
   "name": "python",
   "nbconvert_exporter": "python",
   "pygments_lexer": "ipython3",
   "version": "3.12.6"
  }
 },
 "nbformat": 4,
 "nbformat_minor": 5
}
