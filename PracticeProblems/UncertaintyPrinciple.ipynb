{
 "cells": [
  {
   "cell_type": "code",
   "execution_count": 1,
   "id": "bcd29365-a8d4-421c-b873-1cbbed919aff",
   "metadata": {},
   "outputs": [],
   "source": [
    "# Author: Brent Artuch\n",
    "# Date: 2024-10-20\n",
    "\n",
    "import sympy as sp\n",
    "import numpy as np\n",
    "import scipy.constants as const\n",
    "\n",
    "sp.init_printing()"
   ]
  },
  {
   "cell_type": "markdown",
   "id": "fe72816f-61b1-4ca4-9503-81aca026e621",
   "metadata": {},
   "source": [
    "## Velocity\n",
    "Example - We need to simultaneously measure the position and speed of an electron. The electron lies in a volume with a diameter of one Angstrom ($\\mathring{A}$). The mass of an elctron is $9.109 \\times 10^{-31}$ kg. What is the minimum possible uncertainty in the electron's nonrelativistic speed?"
   ]
  },
  {
   "cell_type": "markdown",
   "id": "22ddc462-2f8a-406c-bcca-f7ea01fb281f",
   "metadata": {},
   "source": [
    "Recall that the value of the change in momentum $\\Delta p$ is:\n",
    "\\begin{align*}\n",
    "\\Delta{p}=\\Delta (mv)= m\\Delta v\n",
    "\\end{align*}\n",
    "where $m$ is the mass and $\\Delta v$ is the change in velocity.<br>\n",
    "Note: mass $m$ is a constant scalar so is unaffected by $\\Delta$"
   ]
  },
  {
   "cell_type": "markdown",
   "id": "27d58d37-fc4b-4a86-8d64-57c43e83f68e",
   "metadata": {},
   "source": [
    "Now we can plug this into the uncertainty equation to solve for the change in velocity $\\Delta v$:\n",
    "\\begin{align*}\n",
    "\\Delta x\\Delta p &\\ge \\frac{\\hbar}{2}\\\\\n",
    "\\Delta x(m\\Delta v) &\\ge \\frac{\\hbar}{2}\\\\\n",
    "\\Delta x\\Delta v &\\ge \\frac{\\hbar}{2m}\\\\\n",
    "\\end{align*}\n",
    "where $\\Delta x$ is the change in position and $\\hbar=h/2\\pi$"
   ]
  },
  {
   "cell_type": "markdown",
   "id": "30a9b155-6463-4dbd-a9fe-0b2e4e964e74",
   "metadata": {},
   "source": [
    "Now we can solve for the change in velocity $\\Delta v$:\n",
    "\\begin{align*}\n",
    "\\Delta v &\\ge \\frac{\\hbar}{2m\\Delta x}=\\frac{h}{(4\\pi) m\\Delta x}=\\frac{h}{(4\\pi) m(\\mathring{A})}\n",
    "\\end{align*}\n",
    "where $\\mathring{A}=10^{-10}$ and is the diameter of the volume thus making it $\\Delta x$."
   ]
  },
  {
   "cell_type": "markdown",
   "id": "b5e0ff76-2258-4681-9fe5-6b5f700777dd",
   "metadata": {},
   "source": [
    "Lastly, we can plug in our known values to solve the eaquation:\n",
    "\\begin{align*}\n",
    "\\Delta v &\\ge \\frac{6.626 \\times 10^{-31}}{(4\\pi)(9.109 \\times 10^{-34})(10^{-10})}=5.79\\times 10^5\\text{ m/s }=579\\text{ km/s }\n",
    "\\end{align*}"
   ]
  },
  {
   "cell_type": "code",
   "execution_count": 2,
   "id": "fe939601-9c5d-4b97-806d-e2837aad839f",
   "metadata": {},
   "outputs": [
    {
     "name": "stdout",
     "output_type": "stream",
     "text": [
      "579.0 km/s\n"
     ]
    }
   ],
   "source": [
    "# With Python \n",
    "\n",
    "# Define variables \n",
    "h = const.h\n",
    "pi = np.pi\n",
    "m = const.m_e\n",
    "Angstrom = 10**-10\n",
    "\n",
    "# Plug into equation\n",
    "delta_v= h / ((4*pi) * m * Angstrom) # m/s\n",
    "delta_v = delta_v / 1000 # km/s\n",
    "\n",
    "print(round(delta_v,0), \"km/s\")"
   ]
  },
  {
   "cell_type": "markdown",
   "id": "7a230687-4e92-4d9d-bda8-8a1ed1019702",
   "metadata": {},
   "source": [
    "## Position\n",
    "Example - Again we need to simultaneously measure the position and speed of an electron. The electron has a speed of $25$ km/s with an accuracy of $0.2\\%$. What is the minimum possible uncertainty in an electron's position?"
   ]
  },
  {
   "cell_type": "markdown",
   "id": "7509e33c-587b-42ff-a9dc-5c6299675399",
   "metadata": {},
   "source": [
    "Again, we substitute the value for the chage in momentum $\\Delta p$ and get:\n",
    "\\begin{align*}\n",
    "\\Delta x\\Delta v &\\ge \\frac{\\hbar}{2m}\\\\\n",
    "\\end{align*}"
   ]
  },
  {
   "cell_type": "markdown",
   "id": "169a22ab-1814-4c05-aa20-e83d6b743743",
   "metadata": {},
   "source": [
    "This time we are going to solve the equation for the change in position $\\Delta x$:\n",
    "\\begin{align*}\n",
    "\\Delta x &\\ge \\frac{\\hbar}{2m\\Delta v}=\\frac{h}{(4\\pi) m\\Delta v}\n",
    "\\end{align*}"
   ]
  },
  {
   "cell_type": "markdown",
   "id": "b5e32995-0458-4db7-827f-b96608b16ed1",
   "metadata": {},
   "source": [
    "Next, we need to determine the value of the change in velocity $\\Delta v$ given that the uncertainty in the electron's speed is $0.2\\%$. Recall that the change in velocity is $\\Delta v=v_f-v_i$ which is the difference between the final velocity and the initial velocity. In this scenario, we can interpret the accuracy as the range of the possible values of the projected velocity from the measured velocity. So the projected velocity should fall within $0.02\\%$ of the measured velocity ($25$ km/s). Thus:\n",
    "\\begin{align*}\n",
    "\\Delta v =0.002v=(0.002)(25,000)=50\\text{ m/s}\n",
    "\\end{align*}"
   ]
  },
  {
   "cell_type": "markdown",
   "id": "e849c216-47bb-481b-af12-6bcfc6c4466a",
   "metadata": {},
   "source": [
    "Lastly, we can plug in our known values to solve the eaquation:\n",
    "\\begin{align*}\n",
    "\\Delta x &\\ge \\frac{6.626 \\times 10^{-31}}{(4\\pi)(9.109 \\times 10^{-34})(50)}=1.2\\times 10^{-6}\\text{ m/s }=1.2 \\ \\mu\\text{m/s }\n",
    "\\end{align*}\n",
    "where $\\mu$ is micro $10^{-6}$ "
   ]
  },
  {
   "cell_type": "code",
   "execution_count": 3,
   "id": "9e92e3c5-3c9e-4aad-9454-d36f5b8e1d3d",
   "metadata": {},
   "outputs": [
    {
     "name": "stdout",
     "output_type": "stream",
     "text": [
      "1.2e-06 m/s\n",
      "or\n",
      "1.2 nanometers/s\n"
     ]
    }
   ],
   "source": [
    "# With Python \n",
    "\n",
    "# Define variables \n",
    "h = const.h\n",
    "pi = np.pi\n",
    "m = const.m_e\n",
    "delta_v = 50\n",
    "\n",
    "# Plug into equation\n",
    "delta_v= h / ((4*pi) * m * delta_v) # m/s\n",
    "\n",
    "print(round(delta_v,7), \"m/s\")\n",
    "print(\"or\")\n",
    "print(round(delta_v*(10**6),1), \"nanometers/s\")"
   ]
  }
 ],
 "metadata": {
  "kernelspec": {
   "display_name": "Quantum_Mechanics_venv",
   "language": "python",
   "name": "quantum_mechanics_venv"
  },
  "language_info": {
   "codemirror_mode": {
    "name": "ipython",
    "version": 3
   },
   "file_extension": ".py",
   "mimetype": "text/x-python",
   "name": "python",
   "nbconvert_exporter": "python",
   "pygments_lexer": "ipython3",
   "version": "3.12.7"
  }
 },
 "nbformat": 4,
 "nbformat_minor": 5
}
