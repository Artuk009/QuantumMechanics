{
 "cells": [
  {
   "cell_type": "code",
   "execution_count": 1,
   "id": "4cbea0dc-f9ef-48a0-aea1-97f0b9ad6562",
   "metadata": {},
   "outputs": [],
   "source": [
    "# Author: Brent Artuch\n",
    "# Date: 2024-10-14\n",
    "\n",
    "import sympy as sp\n",
    "import numpy as np\n",
    "import matplotlib.pyplot as plt\n",
    "\n",
    "sp.init_printing()"
   ]
  },
  {
   "cell_type": "markdown",
   "id": "37ce7165-a1c8-42f9-a2b9-d69d7bdad5f1",
   "metadata": {},
   "source": [
    "## Free Particle\n",
    "Example - Solve Schrodinger's time-dependent equation for a free particle traveling in one dimension along $\\pm x$.<br>\n",
    "Answer:<br>\n",
    "For a free particle the potential energy $V(x)=0$, so we have the time-independent equation:\n",
    "\\begin{align*}\n",
    "-\\frac{h^2}{2m}\\frac{d^2\\psi(x)}{dx^2}+V(x)\\psi(x)&=E\\psi(x)\\\\\n",
    "-\\frac{h^2}{2m}\\frac{d^2\\psi(x)}{dx^2}+0(\\psi(x))&=E\\psi(x)\\\\\n",
    "-\\frac{h^2}{2m}\\frac{d^2\\psi(x)}{dx^2}&=E\\psi(x)\n",
    "\\end{align*}\n",
    "Isolate the second order derivative of the wave function $\\Psi$ with respect to position $x$:\n",
    "\\begin{align*}\n",
    "-\\frac{h^2}{2m}\\frac{d^2\\psi(x)}{dx^2}&=E\\psi(x)\\\\\n",
    "\\frac{d^2\\psi(x)}{dx^2}&=-\\frac{2m}{h^2}E\\psi(x)\\\\\n",
    "\\frac{d^2\\psi(x)}{dx^2}&=-\\frac{2mE}{h^2}\\psi(x)\\\\\n",
    "\\end{align*}\n",
    "We can use the general solution for:\n",
    "\\begin{align*}\n",
    "\\frac{d^2\\psi(x)}{dx^2}&=-k^2 \\ \\to \\ \\psi(x)=Ae^{ikx}+Be^{-ikx}\n",
    "\\end{align*}\n",
    "Solve for $k$:\n",
    "\\begin{align*}\n",
    "k^2&=\\frac{2mE}{h^2}\\\\\n",
    "k&=\\pm\\frac{\\sqrt{2mE}}{h}\\\\\n",
    "\\end{align*}\n",
    "Now we can find the time-dependant solution:\n",
    "\\begin{align*}\n",
    "\\Psi(x,t)=\\psi(x)\\phi(t)=\\psi(x)e^{-iEt/h}=Ae^{ikx}e^{-iEt/h}+Be^{-ikx}e^{-iEt/h}\\\\\n",
    "\\end{align*}\n",
    "Since $E=hf=\\hbar\\omega$ by the de Broglie relation, we can rewrite $\\Phi(x,t)$ as:\n",
    "\\begin{align*}\n",
    "\\Psi(x,t)&=Ae^{ikx}e^{-i\\omega t}+Be^{-ikx}e^{-i\\omega t}\\\\\n",
    "&=Ae^{i(kx-\\omega t)}+Be^{-i(kx+\\omega t)}\n",
    "\\end{align*}\n",
    "Therefore, \n",
    "\\begin{align*}\n",
    "\\Psi(x,t)=\\begin{cases} \n",
    "Ae^{i(kx-\\omega t)} & \\text{ Particle traveling in the positive x direction } \\\\\n",
    "Be^{-i(kx+\\omega t)} & \\text{ Particle traveling in the negative x direction }  \\\\\n",
    "\\end{cases}\n",
    "\\end{align*}\n",
    "where $k$ is $\\frac{\\sqrt{2mE}}{h}$"
   ]
  }
 ],
 "metadata": {
  "kernelspec": {
   "display_name": "Quantum_Mechanics_venv",
   "language": "python",
   "name": "quantum_mechanics_venv"
  },
  "language_info": {
   "codemirror_mode": {
    "name": "ipython",
    "version": 3
   },
   "file_extension": ".py",
   "mimetype": "text/x-python",
   "name": "python",
   "nbconvert_exporter": "python",
   "pygments_lexer": "ipython3",
   "version": "3.12.7"
  }
 },
 "nbformat": 4,
 "nbformat_minor": 5
}
