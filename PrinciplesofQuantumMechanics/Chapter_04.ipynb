{
 "cells": [
  {
   "cell_type": "code",
   "execution_count": 1,
   "id": "348bca6f-2823-4102-b184-b478f4c61c4d",
   "metadata": {},
   "outputs": [],
   "source": [
    "# Author: Brent Artuch\n",
    "# Date: 2024-10-15\n",
    "\n",
    "import sympy as sp\n",
    "import numpy as np\n",
    "import matplotlib.pyplot as plt\n",
    "\n",
    "sp.init_printing()"
   ]
  },
  {
   "cell_type": "markdown",
   "id": "6105f4b1-8f98-47d6-95ad-e8f8c82e1e8b",
   "metadata": {},
   "source": [
    "## The Postulates\n",
    "1. The state of a particle is represented by a vector $\\ket{\\Psi(t)}$ in a Hilbert space.\n",
    "2. Position and Momentum are operators $X$ and $P$ where\n",
    "\\begin{align*}\n",
    "\\bra{x}X\\ket{x^\\prime}&=x\\delta(x-x^\\prime)\\\\\n",
    "\\bra{x}P\\ket{x^\\prime}&=-i\\hbar\\delta(x-x^\\prime)\\\\\n",
    "\\end{align*}\n",
    "3. If the particle is in a state $\\ket{\\psi}$, measurement of the variable $\\Omega$ will yeild one of the eigenvalues $\\omega$ with probability $P(\\omega)=|\\braket{\\omega|\\psi}|^2$, and the state of the system will change from $\\ket{\\psi}$ to $\\ket{\\omega}$ as a result of measurement.\n",
    "4. The state vector $\\ket{\\psi(t)}$ obeys the Shrodinger equation denoted:\n",
    "\\begin{align*}\n",
    "i\\hbar\\frac{d}{dt}\\ket{\\psi(t)}=H\\ket{\\psi(t)}\n",
    "\\end{align*}\n",
    "where $H$ is a Hamiltonian operator."
   ]
  },
  {
   "cell_type": "code",
   "execution_count": 5,
   "id": "d6eaea28-faf1-44e8-9fda-fef06e15f650",
   "metadata": {},
   "outputs": [
    {
     "ename": "NonSquareMatrixError",
     "evalue": "Matrix([[1], [0]]) must be a square matrix.",
     "output_type": "error",
     "traceback": [
      "\u001b[0;31m---------------------------------------------------------------------------\u001b[0m",
      "\u001b[0;31mNonSquareMatrixError\u001b[0m                      Traceback (most recent call last)",
      "Cell \u001b[0;32mIn[5], line 4\u001b[0m\n\u001b[1;32m      1\u001b[0m ket0 \u001b[38;5;241m=\u001b[39m sp\u001b[38;5;241m.\u001b[39mMatrix([\n\u001b[1;32m      2\u001b[0m     [\u001b[38;5;241m1\u001b[39m],[\u001b[38;5;241m0\u001b[39m]\n\u001b[1;32m      3\u001b[0m ])\n\u001b[0;32m----> 4\u001b[0m \u001b[43mket0\u001b[49m\u001b[38;5;241;43m.\u001b[39;49m\u001b[43meigenvals\u001b[49m\u001b[43m(\u001b[49m\u001b[43m)\u001b[49m\n",
      "File \u001b[0;32m~/PythonProjects/QuantumMechanics/Quantum_Mechanics_venv/lib/python3.10/site-packages/sympy/matrices/matrixbase.py:3333\u001b[0m, in \u001b[0;36mMatrixBase.eigenvals\u001b[0;34m(self, error_when_incomplete, **flags)\u001b[0m\n\u001b[1;32m   3332\u001b[0m \u001b[38;5;28;01mdef\u001b[39;00m \u001b[38;5;21meigenvals\u001b[39m(\u001b[38;5;28mself\u001b[39m, error_when_incomplete\u001b[38;5;241m=\u001b[39m\u001b[38;5;28;01mTrue\u001b[39;00m, \u001b[38;5;241m*\u001b[39m\u001b[38;5;241m*\u001b[39mflags):\n\u001b[0;32m-> 3333\u001b[0m     \u001b[38;5;28;01mreturn\u001b[39;00m \u001b[43m_eigenvals\u001b[49m\u001b[43m(\u001b[49m\u001b[38;5;28;43mself\u001b[39;49m\u001b[43m,\u001b[49m\u001b[43m \u001b[49m\u001b[43merror_when_incomplete\u001b[49m\u001b[38;5;241;43m=\u001b[39;49m\u001b[43merror_when_incomplete\u001b[49m\u001b[43m,\u001b[49m\u001b[43m \u001b[49m\u001b[38;5;241;43m*\u001b[39;49m\u001b[38;5;241;43m*\u001b[39;49m\u001b[43mflags\u001b[49m\u001b[43m)\u001b[49m\n",
      "File \u001b[0;32m~/PythonProjects/QuantumMechanics/Quantum_Mechanics_venv/lib/python3.10/site-packages/sympy/matrices/eigen.py:166\u001b[0m, in \u001b[0;36m_eigenvals\u001b[0;34m(M, error_when_incomplete, simplify, multiple, rational, **flags)\u001b[0m\n\u001b[1;32m    163\u001b[0m     \u001b[38;5;28;01mreturn\u001b[39;00m {}\n\u001b[1;32m    165\u001b[0m \u001b[38;5;28;01mif\u001b[39;00m \u001b[38;5;129;01mnot\u001b[39;00m M\u001b[38;5;241m.\u001b[39mis_square:\n\u001b[0;32m--> 166\u001b[0m     \u001b[38;5;28;01mraise\u001b[39;00m NonSquareMatrixError(\u001b[38;5;124m\"\u001b[39m\u001b[38;5;132;01m{}\u001b[39;00m\u001b[38;5;124m must be a square matrix.\u001b[39m\u001b[38;5;124m\"\u001b[39m\u001b[38;5;241m.\u001b[39mformat(M))\n\u001b[1;32m    168\u001b[0m \u001b[38;5;28;01mif\u001b[39;00m M\u001b[38;5;241m.\u001b[39m_rep\u001b[38;5;241m.\u001b[39mdomain \u001b[38;5;129;01mnot\u001b[39;00m \u001b[38;5;129;01min\u001b[39;00m (ZZ, QQ):\n\u001b[1;32m    169\u001b[0m     \u001b[38;5;66;03m# Skip this check for ZZ/QQ because it can be slow\u001b[39;00m\n\u001b[1;32m    170\u001b[0m     \u001b[38;5;28;01mif\u001b[39;00m \u001b[38;5;28mall\u001b[39m(x\u001b[38;5;241m.\u001b[39mis_number \u001b[38;5;28;01mfor\u001b[39;00m x \u001b[38;5;129;01min\u001b[39;00m M) \u001b[38;5;129;01mand\u001b[39;00m M\u001b[38;5;241m.\u001b[39mhas(Float):\n",
      "\u001b[0;31mNonSquareMatrixError\u001b[0m: Matrix([[1], [0]]) must be a square matrix."
     ]
    }
   ],
   "source": [
    "ket0 = sp.Matrix([[1],[0]])\n",
    "ket1 = sp.Matrix([[0],[1]])\n",
    "\n",
    "\n",
    "ket0.eigenvals()"
   ]
  },
  {
   "cell_type": "code",
   "execution_count": null,
   "id": "7acfbc55-8dfe-4efa-b93e-87c4595f4da5",
   "metadata": {},
   "outputs": [],
   "source": []
  }
 ],
 "metadata": {
  "kernelspec": {
   "display_name": "Quantum_Mechanics_venv",
   "language": "python",
   "name": "quantum_mechanics_venv"
  },
  "language_info": {
   "codemirror_mode": {
    "name": "ipython",
    "version": 3
   },
   "file_extension": ".py",
   "mimetype": "text/x-python",
   "name": "python",
   "nbconvert_exporter": "python",
   "pygments_lexer": "ipython3",
   "version": "3.10.14"
  }
 },
 "nbformat": 4,
 "nbformat_minor": 5
}
