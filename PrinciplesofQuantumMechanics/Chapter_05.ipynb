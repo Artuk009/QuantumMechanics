{
 "cells": [
  {
   "cell_type": "code",
   "execution_count": 11,
   "id": "396d32cd-649f-4654-9a09-e4aade078fd4",
   "metadata": {},
   "outputs": [],
   "source": [
    "# Author: Brent Artuch\n",
    "# Date: 2024-10-12\n",
    "\n",
    "import sympy as sp\n",
    "import numpy as np\n",
    "import scipy.constants as const\n",
    "import matplotlib.pyplot as plt\n",
    "\n",
    "sp.init_printing()"
   ]
  },
  {
   "cell_type": "markdown",
   "id": "fd6eebe7-3a79-4df2-a525-747d3ccba428",
   "metadata": {},
   "source": [
    "## The Free Particle (Momentum)\n",
    "The classical free particle is characterized by a fixed velocity $v$ and the momentum $p$ is given by:\n",
    "\\begin{align*}\n",
    "p=mv\n",
    "\\end{align*}\n",
    "and the kinetic energy $KE$ equals the total energy $E$ denoted as:\n",
    "\\begin{align*}\n",
    "E=\\frac{1}{2}mv^2=\\frac{p^2}{2m}\n",
    "\\end{align*}\n",
    "The Shrodinger equation:<br>\n",
    "\\begin{align*}\n",
    "i\\hbar\\ket{\\psi}=H\\ket{\\psi}=\\frac{p^2}{2m}\\ket{\\psi}\n",
    "\\end{align*}\n",
    "where $\\psi=$ The Wave Function, $i=\\sqrt{-1}$, $\\hbar=h/2\\pi$, $H=$ The Hamiltonian Operator, $p=$ Momentum, and $m=$ Particle Mass.<br>\n",
    "<br>\n",
    "The stationary state (i.e. independent of time $t$) has solutions in the form:<br>\n",
    "\\begin{align*}\n",
    "\\ket{\\psi}=\\ket{E}e^{-iEt/\\hbar}\n",
    "\\end{align*}\n",
    "and<br>\n",
    "\\begin{align*}\n",
    "H\\ket{E}=\\frac{p^2}{2m}\\ket{E}=E\\ket{E}\n",
    "\\end{align*}\n",
    "Trial solution $\\ket{p}$:<br>\n",
    "\\begin{align*}\n",
    "\\frac{p^2}{2m}\\ket{p}=E\\ket{p}\\\\\n",
    "\\end{align*}\n",
    "Now solve for $p$:<br>\n",
    "\\begin{align*}\n",
    "\\frac{p^2}{2m}&=E\\\\\n",
    "p^2&=2mE\\\\\n",
    "p &= \\pm\\sqrt{2mE}\n",
    "\\end{align*}\n",
    "Now we have two orthogonal eigenstates for each eigenvalue $E$:<br>\n",
    "\\begin{align*}\n",
    "\\ket{E,+}&=\\ket{p^+}=\\ket{\\sqrt{2mE}} \\ \\text{ The particle is moving to the right with momentum }|p|\\\\\n",
    "\\ket{E,-}&=\\ket{p^-}=\\ket{-\\sqrt{2mE}} \\ \\text{ The particle is moving to the left with momentum }|p|\\\\\\\n",
    "\\end{align*}\n",
    "We can now describe $\\ket{E}$ in terms of its new set of basis vectors $\\{\\ket{p^+},\\ket{p^-}\\}$:<br> \n",
    "\\begin{align*}\n",
    "\\ket{E}&=\\alpha\\ket{p^+}+\\beta\\ket{p^-}\\\\\n",
    "&\\text{ ST. } |\\alpha|^2+|\\beta|^2=1\n",
    "\\end{align*}\n",
    "$|\\alpha|^2$ is the probability that the particle is traveling to the right with a momentum $|p|$, and $|\\beta|^2$ is the probability that the particle is traveling to the left with a momentum $|p|$.<br>\n",
    "<br>\n",
    "Finally, the propogator $U(t)$ is:\n",
    "\\begin{align*}\n",
    "U(t)&=\\int_{-\\infty}^{\\infty}\\ket{p}\\bra{p}e^{-iEt/\\hbar}dp\\\\\n",
    "&=\\int_{-\\infty}^{\\infty}\\ket{p}\\bra{p}e^{-ip^2t/2m\\hbar}dp\n",
    "\\end{align*}"
   ]
  }
 ],
 "metadata": {
  "kernelspec": {
   "display_name": "Quantum_Mechanics_venv",
   "language": "python",
   "name": "quantum_mechanics_venv"
  },
  "language_info": {
   "codemirror_mode": {
    "name": "ipython",
    "version": 3
   },
   "file_extension": ".py",
   "mimetype": "text/x-python",
   "name": "python",
   "nbconvert_exporter": "python",
   "pygments_lexer": "ipython3",
   "version": "3.12.7"
  }
 },
 "nbformat": 4,
 "nbformat_minor": 5
}
