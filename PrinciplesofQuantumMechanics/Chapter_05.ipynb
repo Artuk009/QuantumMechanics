{
 "cells": [
  {
   "cell_type": "code",
   "execution_count": 11,
   "id": "396d32cd-649f-4654-9a09-e4aade078fd4",
   "metadata": {},
   "outputs": [],
   "source": [
    "# Author: Brent Artuch\n",
    "# Date: 2024-10-12\n",
    "\n",
    "import sympy as sp\n",
    "import numpy as np\n",
    "import scipy.constants as const\n",
    "import matplotlib.pyplot as plt\n",
    "\n",
    "sp.init_printing()"
   ]
  },
  {
   "cell_type": "code",
   "execution_count": null,
   "id": "d3777625-a955-4b1e-afbf-eecdd0857f3d",
   "metadata": {},
   "outputs": [],
   "source": []
  }
 ],
 "metadata": {
  "kernelspec": {
   "display_name": "Quantum_Mechanics_venv",
   "language": "python",
   "name": "quantum_mechanics_venv"
  },
  "language_info": {
   "codemirror_mode": {
    "name": "ipython",
    "version": 3
   },
   "file_extension": ".py",
   "mimetype": "text/x-python",
   "name": "python",
   "nbconvert_exporter": "python",
   "pygments_lexer": "ipython3",
   "version": "3.12.7"
  }
 },
 "nbformat": 4,
 "nbformat_minor": 5
}
